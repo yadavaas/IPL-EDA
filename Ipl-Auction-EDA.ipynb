{
 "cells": [
  {
   "cell_type": "markdown",
   "metadata": {},
   "source": [
    "# EDA of IPL Auction 2022\n",
    "\n",
    "In this project we are going to perform Exploratory Data Analysis (EDA) on the dataset of IPL Auction 2022. This dataset is downloaded from Kaggle. We will try to explore this data as much as possible and plot the results for visualization. We are going to use NumPy, Pandas, Matplotlib, Seaborn and some other Python libraries in this analysis.\n"
   ]
  },
  {
   "cell_type": "markdown",
   "metadata": {},
   "source": [
    "## Downloading the Dataset\n",
    "\n",
    "First step is to download the dataset.\n",
    "- Install the Python library 'opendatasets'.\n",
    "- Copy the link of csv file.\n",
    "- download the file using following commands.\n",
    "\n",
    "**NOTE** - while downloading the file you will be asked to enter the ID and Key, which, you need to get from your Kaggle profile. "
   ]
  },
  {
   "cell_type": "code",
   "execution_count": 3,
   "metadata": {},
   "outputs": [],
   "source": [
    "!pip install opendatasets --upgrade --quiet"
   ]
  },
  {
   "cell_type": "markdown",
   "metadata": {},
   "source": [
    "Let's begin by downloading the data, and listing the files within the dataset."
   ]
  },
  {
   "cell_type": "code",
   "execution_count": 4,
   "metadata": {},
   "outputs": [],
   "source": [
    "dataset_url = 'https://www.kaggle.com/datasets/shivavashishtha/2022-ipl-auction-dataset' "
   ]
  },
  {
   "cell_type": "code",
   "execution_count": 7,
   "metadata": {},
   "outputs": [
    {
     "name": "stdout",
     "output_type": "stream",
     "text": [
      "Please provide your Kaggle credentials to download this dataset. Learn more: http://bit.ly/kaggle-creds\n",
      "Your Kaggle username: sanjuyadav2022\n",
      "Your Kaggle Key: ········\n",
      "Downloading 2022-ipl-auction-dataset.zip to .\\2022-ipl-auction-dataset\n"
     ]
    },
    {
     "name": "stderr",
     "output_type": "stream",
     "text": [
      "100%|█████████████████████████████████████████████████████████████████████████████| 9.17k/9.17k [00:00<00:00, 3.13MB/s]"
     ]
    },
    {
     "name": "stdout",
     "output_type": "stream",
     "text": [
      "\n"
     ]
    },
    {
     "name": "stderr",
     "output_type": "stream",
     "text": [
      "\n"
     ]
    }
   ],
   "source": [
    "import opendatasets as od\n",
    "od.download(dataset_url, force=True)"
   ]
  },
  {
   "cell_type": "markdown",
   "metadata": {},
   "source": [
    "The dataset has been downloaded and extracted."
   ]
  },
  {
   "cell_type": "code",
   "execution_count": 8,
   "metadata": {},
   "outputs": [],
   "source": [
    "data_dir = './2022-ipl-auction-dataset'"
   ]
  },
  {
   "cell_type": "code",
   "execution_count": 9,
   "metadata": {},
   "outputs": [
    {
     "data": {
      "text/plain": [
       "['.jovianrc', 'final-Copy.csv', 'final-Copy1.txt', 'ipl_2022_dataset.csv']"
      ]
     },
     "execution_count": 9,
     "metadata": {},
     "output_type": "execute_result"
    }
   ],
   "source": [
    "import os\n",
    "os.listdir(data_dir)"
   ]
  },
  {
   "cell_type": "markdown",
   "metadata": {},
   "source": [
    "## Data Preparation and Cleaning\n",
    "\n",
    "Now we will perform data preparation and cleaning by removing unwanted rows and columns.\n",
    "\n"
   ]
  },
  {
   "cell_type": "markdown",
   "metadata": {},
   "source": [
    "Using **Pandas** let's read the dataframe and have a closer look."
   ]
  },
  {
   "cell_type": "markdown",
   "metadata": {},
   "source": [
    "[**Pandas**](https://pandas.pydata.org/) is a popular Python library used for working in tabular data (similar to the data stored in a spreadsheet). Pandas provides helper functions to read data from various file formats like CSV, Excel spreadsheets, HTML tables, JSON, SQL, and more."
   ]
  },
  {
   "cell_type": "code",
   "execution_count": 10,
   "metadata": {},
   "outputs": [],
   "source": [
    "import pandas as pd"
   ]
  },
  {
   "cell_type": "code",
   "execution_count": 11,
   "metadata": {},
   "outputs": [],
   "source": [
    "IPL_Auction_raw_df = pd.read_csv('./2022-ipl-auction-dataset/ipl_2022_dataset.csv')"
   ]
  },
  {
   "cell_type": "code",
   "execution_count": 12,
   "metadata": {
    "scrolled": false
   },
   "outputs": [
    {
     "data": {
      "text/html": [
       "<div>\n",
       "<style scoped>\n",
       "    .dataframe tbody tr th:only-of-type {\n",
       "        vertical-align: middle;\n",
       "    }\n",
       "\n",
       "    .dataframe tbody tr th {\n",
       "        vertical-align: top;\n",
       "    }\n",
       "\n",
       "    .dataframe thead th {\n",
       "        text-align: right;\n",
       "    }\n",
       "</style>\n",
       "<table border=\"1\" class=\"dataframe\">\n",
       "  <thead>\n",
       "    <tr style=\"text-align: right;\">\n",
       "      <th></th>\n",
       "      <th>Unnamed: 0</th>\n",
       "      <th>Player</th>\n",
       "      <th>Base Price</th>\n",
       "      <th>TYPE</th>\n",
       "      <th>COST IN ₹ (CR.)</th>\n",
       "      <th>Cost IN $ (000)</th>\n",
       "      <th>2021 Squad</th>\n",
       "      <th>Team</th>\n",
       "    </tr>\n",
       "  </thead>\n",
       "  <tbody>\n",
       "    <tr>\n",
       "      <th>0</th>\n",
       "      <td>0</td>\n",
       "      <td>Rashid Khan</td>\n",
       "      <td>Draft Pick</td>\n",
       "      <td>BOWLER</td>\n",
       "      <td>15.0</td>\n",
       "      <td>1950.0</td>\n",
       "      <td>SRH</td>\n",
       "      <td>Gujarat Titans</td>\n",
       "    </tr>\n",
       "    <tr>\n",
       "      <th>1</th>\n",
       "      <td>1</td>\n",
       "      <td>Hardik Pandya</td>\n",
       "      <td>Draft Pick</td>\n",
       "      <td>ALL-ROUNDER</td>\n",
       "      <td>15.0</td>\n",
       "      <td>1950.0</td>\n",
       "      <td>MI</td>\n",
       "      <td>Gujarat Titans</td>\n",
       "    </tr>\n",
       "    <tr>\n",
       "      <th>2</th>\n",
       "      <td>2</td>\n",
       "      <td>Lockie Ferguson</td>\n",
       "      <td>2 Cr</td>\n",
       "      <td>BOWLER</td>\n",
       "      <td>10.0</td>\n",
       "      <td>1300.0</td>\n",
       "      <td>KKR</td>\n",
       "      <td>Gujarat Titans</td>\n",
       "    </tr>\n",
       "    <tr>\n",
       "      <th>3</th>\n",
       "      <td>3</td>\n",
       "      <td>Rahul Tewatia</td>\n",
       "      <td>40 Lakh</td>\n",
       "      <td>ALL-ROUNDER</td>\n",
       "      <td>9.0</td>\n",
       "      <td>1170.0</td>\n",
       "      <td>RR</td>\n",
       "      <td>Gujarat Titans</td>\n",
       "    </tr>\n",
       "    <tr>\n",
       "      <th>4</th>\n",
       "      <td>4</td>\n",
       "      <td>Shubman Gill</td>\n",
       "      <td>Draft Pick</td>\n",
       "      <td>BATTER</td>\n",
       "      <td>8.0</td>\n",
       "      <td>1040.0</td>\n",
       "      <td>KKR</td>\n",
       "      <td>Gujarat Titans</td>\n",
       "    </tr>\n",
       "    <tr>\n",
       "      <th>...</th>\n",
       "      <td>...</td>\n",
       "      <td>...</td>\n",
       "      <td>...</td>\n",
       "      <td>...</td>\n",
       "      <td>...</td>\n",
       "      <td>...</td>\n",
       "      <td>...</td>\n",
       "      <td>...</td>\n",
       "    </tr>\n",
       "    <tr>\n",
       "      <th>628</th>\n",
       "      <td>628</td>\n",
       "      <td>Sairaj Patil</td>\n",
       "      <td>20 Lakh</td>\n",
       "      <td>BATTER</td>\n",
       "      <td>NaN</td>\n",
       "      <td>NaN</td>\n",
       "      <td>NaN</td>\n",
       "      <td>Unsold</td>\n",
       "    </tr>\n",
       "    <tr>\n",
       "      <th>629</th>\n",
       "      <td>629</td>\n",
       "      <td>Monu Singh</td>\n",
       "      <td>20 Lakh</td>\n",
       "      <td>BOWLER</td>\n",
       "      <td>NaN</td>\n",
       "      <td>NaN</td>\n",
       "      <td>NaN</td>\n",
       "      <td>Unsold</td>\n",
       "    </tr>\n",
       "    <tr>\n",
       "      <th>630</th>\n",
       "      <td>630</td>\n",
       "      <td>Nivethan Radhakrishnan</td>\n",
       "      <td>20 Lakh</td>\n",
       "      <td>BOWLER</td>\n",
       "      <td>NaN</td>\n",
       "      <td>NaN</td>\n",
       "      <td>NaN</td>\n",
       "      <td>Unsold</td>\n",
       "    </tr>\n",
       "    <tr>\n",
       "      <th>631</th>\n",
       "      <td>631</td>\n",
       "      <td>Lance Morris</td>\n",
       "      <td>20 Lakh</td>\n",
       "      <td>BOWLER</td>\n",
       "      <td>NaN</td>\n",
       "      <td>NaN</td>\n",
       "      <td>NaN</td>\n",
       "      <td>Unsold</td>\n",
       "    </tr>\n",
       "    <tr>\n",
       "      <th>632</th>\n",
       "      <td>632</td>\n",
       "      <td>Aaron Hardie</td>\n",
       "      <td>20 Lakh</td>\n",
       "      <td>ALL-ROUNDER</td>\n",
       "      <td>NaN</td>\n",
       "      <td>NaN</td>\n",
       "      <td>NaN</td>\n",
       "      <td>Unsold</td>\n",
       "    </tr>\n",
       "  </tbody>\n",
       "</table>\n",
       "<p>633 rows × 8 columns</p>\n",
       "</div>"
      ],
      "text/plain": [
       "     Unnamed: 0                  Player  Base Price         TYPE  \\\n",
       "0             0             Rashid Khan  Draft Pick       BOWLER   \n",
       "1             1           Hardik Pandya  Draft Pick  ALL-ROUNDER   \n",
       "2             2         Lockie Ferguson        2 Cr       BOWLER   \n",
       "3             3           Rahul Tewatia     40 Lakh  ALL-ROUNDER   \n",
       "4             4            Shubman Gill  Draft Pick       BATTER   \n",
       "..          ...                     ...         ...          ...   \n",
       "628         628            Sairaj Patil     20 Lakh       BATTER   \n",
       "629         629              Monu Singh     20 Lakh       BOWLER   \n",
       "630         630  Nivethan Radhakrishnan     20 Lakh       BOWLER   \n",
       "631         631            Lance Morris     20 Lakh       BOWLER   \n",
       "632         632            Aaron Hardie     20 Lakh  ALL-ROUNDER   \n",
       "\n",
       "     COST IN ₹ (CR.)  Cost IN $ (000) 2021 Squad            Team  \n",
       "0               15.0           1950.0        SRH  Gujarat Titans  \n",
       "1               15.0           1950.0         MI  Gujarat Titans  \n",
       "2               10.0           1300.0        KKR  Gujarat Titans  \n",
       "3                9.0           1170.0         RR  Gujarat Titans  \n",
       "4                8.0           1040.0        KKR  Gujarat Titans  \n",
       "..               ...              ...        ...             ...  \n",
       "628              NaN              NaN        NaN          Unsold  \n",
       "629              NaN              NaN        NaN          Unsold  \n",
       "630              NaN              NaN        NaN          Unsold  \n",
       "631              NaN              NaN        NaN          Unsold  \n",
       "632              NaN              NaN        NaN          Unsold  \n",
       "\n",
       "[633 rows x 8 columns]"
      ]
     },
     "execution_count": 12,
     "metadata": {},
     "output_type": "execute_result"
    }
   ],
   "source": [
    "IPL_Auction_raw_df"
   ]
  },
  {
   "cell_type": "markdown",
   "metadata": {},
   "source": [
    "So, the data has 633 rows and 8 columns. Now let's look at the info."
   ]
  },
  {
   "cell_type": "code",
   "execution_count": 11,
   "metadata": {
    "scrolled": true
   },
   "outputs": [
    {
     "name": "stdout",
     "output_type": "stream",
     "text": [
      "<class 'pandas.core.frame.DataFrame'>\n",
      "RangeIndex: 633 entries, 0 to 632\n",
      "Data columns (total 8 columns):\n",
      " #   Column           Non-Null Count  Dtype  \n",
      "---  ------           --------------  -----  \n",
      " 0   Unnamed: 0       633 non-null    int64  \n",
      " 1   Player           633 non-null    object \n",
      " 2   Base Price       633 non-null    object \n",
      " 3   TYPE             633 non-null    object \n",
      " 4   COST IN ₹ (CR.)  237 non-null    float64\n",
      " 5   Cost IN $ (000)  237 non-null    float64\n",
      " 6   2021 Squad       199 non-null    object \n",
      " 7   Team             633 non-null    object \n",
      "dtypes: float64(2), int64(1), object(5)\n",
      "memory usage: 39.7+ KB\n"
     ]
    }
   ],
   "source": [
    "IPL_Auction_raw_df.info()"
   ]
  },
  {
   "cell_type": "markdown",
   "metadata": {},
   "source": [
    "Column 'Unnamed: 0' is integer type, but from previous table its clear that its just the index of the rows. columns 4 and 5 have float data type and rest are the object data type."
   ]
  },
  {
   "cell_type": "code",
   "execution_count": 12,
   "metadata": {},
   "outputs": [
    {
     "data": {
      "text/html": [
       "<div>\n",
       "<style scoped>\n",
       "    .dataframe tbody tr th:only-of-type {\n",
       "        vertical-align: middle;\n",
       "    }\n",
       "\n",
       "    .dataframe tbody tr th {\n",
       "        vertical-align: top;\n",
       "    }\n",
       "\n",
       "    .dataframe thead th {\n",
       "        text-align: right;\n",
       "    }\n",
       "</style>\n",
       "<table border=\"1\" class=\"dataframe\">\n",
       "  <thead>\n",
       "    <tr style=\"text-align: right;\">\n",
       "      <th></th>\n",
       "      <th>Unnamed: 0</th>\n",
       "      <th>COST IN ₹ (CR.)</th>\n",
       "      <th>Cost IN $ (000)</th>\n",
       "    </tr>\n",
       "  </thead>\n",
       "  <tbody>\n",
       "    <tr>\n",
       "      <th>count</th>\n",
       "      <td>633.000000</td>\n",
       "      <td>237.000000</td>\n",
       "      <td>237.000000</td>\n",
       "    </tr>\n",
       "    <tr>\n",
       "      <th>mean</th>\n",
       "      <td>316.000000</td>\n",
       "      <td>3.695781</td>\n",
       "      <td>480.451477</td>\n",
       "    </tr>\n",
       "    <tr>\n",
       "      <th>std</th>\n",
       "      <td>182.875641</td>\n",
       "      <td>4.238092</td>\n",
       "      <td>550.951945</td>\n",
       "    </tr>\n",
       "    <tr>\n",
       "      <th>min</th>\n",
       "      <td>0.000000</td>\n",
       "      <td>0.200000</td>\n",
       "      <td>26.000000</td>\n",
       "    </tr>\n",
       "    <tr>\n",
       "      <th>25%</th>\n",
       "      <td>158.000000</td>\n",
       "      <td>0.400000</td>\n",
       "      <td>52.000000</td>\n",
       "    </tr>\n",
       "    <tr>\n",
       "      <th>50%</th>\n",
       "      <td>316.000000</td>\n",
       "      <td>1.900000</td>\n",
       "      <td>247.000000</td>\n",
       "    </tr>\n",
       "    <tr>\n",
       "      <th>75%</th>\n",
       "      <td>474.000000</td>\n",
       "      <td>6.500000</td>\n",
       "      <td>845.000000</td>\n",
       "    </tr>\n",
       "    <tr>\n",
       "      <th>max</th>\n",
       "      <td>632.000000</td>\n",
       "      <td>17.000000</td>\n",
       "      <td>2210.000000</td>\n",
       "    </tr>\n",
       "  </tbody>\n",
       "</table>\n",
       "</div>"
      ],
      "text/plain": [
       "       Unnamed: 0  COST IN ₹ (CR.)  Cost IN $ (000)\n",
       "count  633.000000       237.000000       237.000000\n",
       "mean   316.000000         3.695781       480.451477\n",
       "std    182.875641         4.238092       550.951945\n",
       "min      0.000000         0.200000        26.000000\n",
       "25%    158.000000         0.400000        52.000000\n",
       "50%    316.000000         1.900000       247.000000\n",
       "75%    474.000000         6.500000       845.000000\n",
       "max    632.000000        17.000000      2210.000000"
      ]
     },
     "execution_count": 12,
     "metadata": {},
     "output_type": "execute_result"
    }
   ],
   "source": [
    "IPL_Auction_raw_df.describe()"
   ]
  },
  {
   "cell_type": "code",
   "execution_count": 13,
   "metadata": {},
   "outputs": [
    {
     "data": {
      "text/plain": [
       "Index(['Unnamed: 0', 'Player', 'Base Price', 'TYPE', 'COST IN ₹ (CR.)',\n",
       "       'Cost IN $ (000)', '2021 Squad', 'Team'],\n",
       "      dtype='object')"
      ]
     },
     "execution_count": 13,
     "metadata": {},
     "output_type": "execute_result"
    }
   ],
   "source": [
    "IPL_Auction_raw_df.columns"
   ]
  },
  {
   "cell_type": "markdown",
   "metadata": {},
   "source": [
    "We don't need columns 'Unnamed: 0' and 'Cost IN $ (000)', so removing them."
   ]
  },
  {
   "cell_type": "code",
   "execution_count": 13,
   "metadata": {},
   "outputs": [],
   "source": [
    "IPL_Auction_2022 = IPL_Auction_raw_df[[ 'Player', 'Base Price', 'TYPE', 'COST IN ₹ (CR.)',\n",
    "        '2021 Squad', 'Team']]"
   ]
  },
  {
   "cell_type": "code",
   "execution_count": 14,
   "metadata": {},
   "outputs": [
    {
     "data": {
      "text/html": [
       "<div>\n",
       "<style scoped>\n",
       "    .dataframe tbody tr th:only-of-type {\n",
       "        vertical-align: middle;\n",
       "    }\n",
       "\n",
       "    .dataframe tbody tr th {\n",
       "        vertical-align: top;\n",
       "    }\n",
       "\n",
       "    .dataframe thead th {\n",
       "        text-align: right;\n",
       "    }\n",
       "</style>\n",
       "<table border=\"1\" class=\"dataframe\">\n",
       "  <thead>\n",
       "    <tr style=\"text-align: right;\">\n",
       "      <th></th>\n",
       "      <th>Player</th>\n",
       "      <th>Base Price</th>\n",
       "      <th>TYPE</th>\n",
       "      <th>COST IN ₹ (CR.)</th>\n",
       "      <th>2021 Squad</th>\n",
       "      <th>Team</th>\n",
       "    </tr>\n",
       "  </thead>\n",
       "  <tbody>\n",
       "    <tr>\n",
       "      <th>0</th>\n",
       "      <td>Rashid Khan</td>\n",
       "      <td>Draft Pick</td>\n",
       "      <td>BOWLER</td>\n",
       "      <td>15.0</td>\n",
       "      <td>SRH</td>\n",
       "      <td>Gujarat Titans</td>\n",
       "    </tr>\n",
       "    <tr>\n",
       "      <th>1</th>\n",
       "      <td>Hardik Pandya</td>\n",
       "      <td>Draft Pick</td>\n",
       "      <td>ALL-ROUNDER</td>\n",
       "      <td>15.0</td>\n",
       "      <td>MI</td>\n",
       "      <td>Gujarat Titans</td>\n",
       "    </tr>\n",
       "    <tr>\n",
       "      <th>2</th>\n",
       "      <td>Lockie Ferguson</td>\n",
       "      <td>2 Cr</td>\n",
       "      <td>BOWLER</td>\n",
       "      <td>10.0</td>\n",
       "      <td>KKR</td>\n",
       "      <td>Gujarat Titans</td>\n",
       "    </tr>\n",
       "    <tr>\n",
       "      <th>3</th>\n",
       "      <td>Rahul Tewatia</td>\n",
       "      <td>40 Lakh</td>\n",
       "      <td>ALL-ROUNDER</td>\n",
       "      <td>9.0</td>\n",
       "      <td>RR</td>\n",
       "      <td>Gujarat Titans</td>\n",
       "    </tr>\n",
       "    <tr>\n",
       "      <th>4</th>\n",
       "      <td>Shubman Gill</td>\n",
       "      <td>Draft Pick</td>\n",
       "      <td>BATTER</td>\n",
       "      <td>8.0</td>\n",
       "      <td>KKR</td>\n",
       "      <td>Gujarat Titans</td>\n",
       "    </tr>\n",
       "    <tr>\n",
       "      <th>...</th>\n",
       "      <td>...</td>\n",
       "      <td>...</td>\n",
       "      <td>...</td>\n",
       "      <td>...</td>\n",
       "      <td>...</td>\n",
       "      <td>...</td>\n",
       "    </tr>\n",
       "    <tr>\n",
       "      <th>628</th>\n",
       "      <td>Sairaj Patil</td>\n",
       "      <td>20 Lakh</td>\n",
       "      <td>BATTER</td>\n",
       "      <td>NaN</td>\n",
       "      <td>NaN</td>\n",
       "      <td>Unsold</td>\n",
       "    </tr>\n",
       "    <tr>\n",
       "      <th>629</th>\n",
       "      <td>Monu Singh</td>\n",
       "      <td>20 Lakh</td>\n",
       "      <td>BOWLER</td>\n",
       "      <td>NaN</td>\n",
       "      <td>NaN</td>\n",
       "      <td>Unsold</td>\n",
       "    </tr>\n",
       "    <tr>\n",
       "      <th>630</th>\n",
       "      <td>Nivethan Radhakrishnan</td>\n",
       "      <td>20 Lakh</td>\n",
       "      <td>BOWLER</td>\n",
       "      <td>NaN</td>\n",
       "      <td>NaN</td>\n",
       "      <td>Unsold</td>\n",
       "    </tr>\n",
       "    <tr>\n",
       "      <th>631</th>\n",
       "      <td>Lance Morris</td>\n",
       "      <td>20 Lakh</td>\n",
       "      <td>BOWLER</td>\n",
       "      <td>NaN</td>\n",
       "      <td>NaN</td>\n",
       "      <td>Unsold</td>\n",
       "    </tr>\n",
       "    <tr>\n",
       "      <th>632</th>\n",
       "      <td>Aaron Hardie</td>\n",
       "      <td>20 Lakh</td>\n",
       "      <td>ALL-ROUNDER</td>\n",
       "      <td>NaN</td>\n",
       "      <td>NaN</td>\n",
       "      <td>Unsold</td>\n",
       "    </tr>\n",
       "  </tbody>\n",
       "</table>\n",
       "<p>633 rows × 6 columns</p>\n",
       "</div>"
      ],
      "text/plain": [
       "                     Player  Base Price         TYPE  COST IN ₹ (CR.)  \\\n",
       "0               Rashid Khan  Draft Pick       BOWLER             15.0   \n",
       "1             Hardik Pandya  Draft Pick  ALL-ROUNDER             15.0   \n",
       "2           Lockie Ferguson        2 Cr       BOWLER             10.0   \n",
       "3             Rahul Tewatia     40 Lakh  ALL-ROUNDER              9.0   \n",
       "4              Shubman Gill  Draft Pick       BATTER              8.0   \n",
       "..                      ...         ...          ...              ...   \n",
       "628            Sairaj Patil     20 Lakh       BATTER              NaN   \n",
       "629              Monu Singh     20 Lakh       BOWLER              NaN   \n",
       "630  Nivethan Radhakrishnan     20 Lakh       BOWLER              NaN   \n",
       "631            Lance Morris     20 Lakh       BOWLER              NaN   \n",
       "632            Aaron Hardie     20 Lakh  ALL-ROUNDER              NaN   \n",
       "\n",
       "    2021 Squad            Team  \n",
       "0          SRH  Gujarat Titans  \n",
       "1           MI  Gujarat Titans  \n",
       "2          KKR  Gujarat Titans  \n",
       "3           RR  Gujarat Titans  \n",
       "4          KKR  Gujarat Titans  \n",
       "..         ...             ...  \n",
       "628        NaN          Unsold  \n",
       "629        NaN          Unsold  \n",
       "630        NaN          Unsold  \n",
       "631        NaN          Unsold  \n",
       "632        NaN          Unsold  \n",
       "\n",
       "[633 rows x 6 columns]"
      ]
     },
     "execution_count": 14,
     "metadata": {},
     "output_type": "execute_result"
    }
   ],
   "source": [
    "IPL_Auction_2022"
   ]
  },
  {
   "cell_type": "markdown",
   "metadata": {},
   "source": [
    "Most of the players went unsold. So, let's create a new dataframe of sold players only."
   ]
  },
  {
   "cell_type": "code",
   "execution_count": 15,
   "metadata": {},
   "outputs": [],
   "source": [
    "IPL_Auction_2022_sold = IPL_Auction_2022[IPL_Auction_2022.Team != 'Unsold'].copy()"
   ]
  },
  {
   "cell_type": "code",
   "execution_count": 16,
   "metadata": {},
   "outputs": [
    {
     "data": {
      "text/html": [
       "<div>\n",
       "<style scoped>\n",
       "    .dataframe tbody tr th:only-of-type {\n",
       "        vertical-align: middle;\n",
       "    }\n",
       "\n",
       "    .dataframe tbody tr th {\n",
       "        vertical-align: top;\n",
       "    }\n",
       "\n",
       "    .dataframe thead th {\n",
       "        text-align: right;\n",
       "    }\n",
       "</style>\n",
       "<table border=\"1\" class=\"dataframe\">\n",
       "  <thead>\n",
       "    <tr style=\"text-align: right;\">\n",
       "      <th></th>\n",
       "      <th>Player</th>\n",
       "      <th>Base Price</th>\n",
       "      <th>TYPE</th>\n",
       "      <th>COST IN ₹ (CR.)</th>\n",
       "      <th>2021 Squad</th>\n",
       "      <th>Team</th>\n",
       "    </tr>\n",
       "  </thead>\n",
       "  <tbody>\n",
       "    <tr>\n",
       "      <th>0</th>\n",
       "      <td>Rashid Khan</td>\n",
       "      <td>Draft Pick</td>\n",
       "      <td>BOWLER</td>\n",
       "      <td>15.0</td>\n",
       "      <td>SRH</td>\n",
       "      <td>Gujarat Titans</td>\n",
       "    </tr>\n",
       "    <tr>\n",
       "      <th>1</th>\n",
       "      <td>Hardik Pandya</td>\n",
       "      <td>Draft Pick</td>\n",
       "      <td>ALL-ROUNDER</td>\n",
       "      <td>15.0</td>\n",
       "      <td>MI</td>\n",
       "      <td>Gujarat Titans</td>\n",
       "    </tr>\n",
       "    <tr>\n",
       "      <th>2</th>\n",
       "      <td>Lockie Ferguson</td>\n",
       "      <td>2 Cr</td>\n",
       "      <td>BOWLER</td>\n",
       "      <td>10.0</td>\n",
       "      <td>KKR</td>\n",
       "      <td>Gujarat Titans</td>\n",
       "    </tr>\n",
       "    <tr>\n",
       "      <th>3</th>\n",
       "      <td>Rahul Tewatia</td>\n",
       "      <td>40 Lakh</td>\n",
       "      <td>ALL-ROUNDER</td>\n",
       "      <td>9.0</td>\n",
       "      <td>RR</td>\n",
       "      <td>Gujarat Titans</td>\n",
       "    </tr>\n",
       "    <tr>\n",
       "      <th>4</th>\n",
       "      <td>Shubman Gill</td>\n",
       "      <td>Draft Pick</td>\n",
       "      <td>BATTER</td>\n",
       "      <td>8.0</td>\n",
       "      <td>KKR</td>\n",
       "      <td>Gujarat Titans</td>\n",
       "    </tr>\n",
       "    <tr>\n",
       "      <th>...</th>\n",
       "      <td>...</td>\n",
       "      <td>...</td>\n",
       "      <td>...</td>\n",
       "      <td>...</td>\n",
       "      <td>...</td>\n",
       "      <td>...</td>\n",
       "    </tr>\n",
       "    <tr>\n",
       "      <th>232</th>\n",
       "      <td>Priyam Garg</td>\n",
       "      <td>20 Lakh</td>\n",
       "      <td>BATTER</td>\n",
       "      <td>0.2</td>\n",
       "      <td>SRH</td>\n",
       "      <td>Sunrisers Hyderabad</td>\n",
       "    </tr>\n",
       "    <tr>\n",
       "      <th>233</th>\n",
       "      <td>R Samarth</td>\n",
       "      <td>20 Lakh</td>\n",
       "      <td>BATTER</td>\n",
       "      <td>0.2</td>\n",
       "      <td>NaN</td>\n",
       "      <td>Sunrisers Hyderabad</td>\n",
       "    </tr>\n",
       "    <tr>\n",
       "      <th>234</th>\n",
       "      <td>Jagadeesha Suchith</td>\n",
       "      <td>20 Lakh</td>\n",
       "      <td>BOWLER</td>\n",
       "      <td>0.2</td>\n",
       "      <td>SRH</td>\n",
       "      <td>Sunrisers Hyderabad</td>\n",
       "    </tr>\n",
       "    <tr>\n",
       "      <th>235</th>\n",
       "      <td>Shashank Singh</td>\n",
       "      <td>20 Lakh</td>\n",
       "      <td>ALL-ROUNDER</td>\n",
       "      <td>0.2</td>\n",
       "      <td>NaN</td>\n",
       "      <td>Sunrisers Hyderabad</td>\n",
       "    </tr>\n",
       "    <tr>\n",
       "      <th>236</th>\n",
       "      <td>Saurabh Dubey</td>\n",
       "      <td>20 Lakh</td>\n",
       "      <td>BOWLER</td>\n",
       "      <td>0.2</td>\n",
       "      <td>NaN</td>\n",
       "      <td>Sunrisers Hyderabad</td>\n",
       "    </tr>\n",
       "  </tbody>\n",
       "</table>\n",
       "<p>237 rows × 6 columns</p>\n",
       "</div>"
      ],
      "text/plain": [
       "                 Player  Base Price         TYPE  COST IN ₹ (CR.) 2021 Squad  \\\n",
       "0           Rashid Khan  Draft Pick       BOWLER             15.0        SRH   \n",
       "1         Hardik Pandya  Draft Pick  ALL-ROUNDER             15.0         MI   \n",
       "2       Lockie Ferguson        2 Cr       BOWLER             10.0        KKR   \n",
       "3         Rahul Tewatia     40 Lakh  ALL-ROUNDER              9.0         RR   \n",
       "4          Shubman Gill  Draft Pick       BATTER              8.0        KKR   \n",
       "..                  ...         ...          ...              ...        ...   \n",
       "232         Priyam Garg     20 Lakh       BATTER              0.2        SRH   \n",
       "233           R Samarth     20 Lakh       BATTER              0.2        NaN   \n",
       "234  Jagadeesha Suchith     20 Lakh       BOWLER              0.2        SRH   \n",
       "235      Shashank Singh     20 Lakh  ALL-ROUNDER              0.2        NaN   \n",
       "236       Saurabh Dubey     20 Lakh       BOWLER              0.2        NaN   \n",
       "\n",
       "                    Team  \n",
       "0         Gujarat Titans  \n",
       "1         Gujarat Titans  \n",
       "2         Gujarat Titans  \n",
       "3         Gujarat Titans  \n",
       "4         Gujarat Titans  \n",
       "..                   ...  \n",
       "232  Sunrisers Hyderabad  \n",
       "233  Sunrisers Hyderabad  \n",
       "234  Sunrisers Hyderabad  \n",
       "235  Sunrisers Hyderabad  \n",
       "236  Sunrisers Hyderabad  \n",
       "\n",
       "[237 rows x 6 columns]"
      ]
     },
     "execution_count": 16,
     "metadata": {},
     "output_type": "execute_result"
    }
   ],
   "source": [
    "IPL_Auction_2022_sold"
   ]
  },
  {
   "cell_type": "code",
   "execution_count": 17,
   "metadata": {},
   "outputs": [
    {
     "name": "stdout",
     "output_type": "stream",
     "text": [
      "<class 'pandas.core.frame.DataFrame'>\n",
      "Int64Index: 237 entries, 0 to 236\n",
      "Data columns (total 6 columns):\n",
      " #   Column           Non-Null Count  Dtype  \n",
      "---  ------           --------------  -----  \n",
      " 0   Player           237 non-null    object \n",
      " 1   Base Price       237 non-null    object \n",
      " 2   TYPE             237 non-null    object \n",
      " 3   COST IN ₹ (CR.)  237 non-null    float64\n",
      " 4   2021 Squad       159 non-null    object \n",
      " 5   Team             237 non-null    object \n",
      "dtypes: float64(1), object(5)\n",
      "memory usage: 13.0+ KB\n"
     ]
    }
   ],
   "source": [
    "IPL_Auction_2022_sold.info()"
   ]
  },
  {
   "cell_type": "markdown",
   "metadata": {},
   "source": [
    "## Exploratory Analysis and Visualization\n",
    "\n",
    "In this section we will analyse the data and plot the graphs."
   ]
  },
  {
   "cell_type": "markdown",
   "metadata": {},
   "source": [
    "Let's begin by importing`matplotlib.pyplot` and `seaborn`."
   ]
  },
  {
   "cell_type": "markdown",
   "metadata": {},
   "source": [
    "- [**Matplotlib**](https://matplotlib.org/) is a comprehensive library for creating static, animated, and interactive visualizations in Python. Matplotlib makes easy things easy and hard things possible.\n",
    "- [**Seaborn**](https://seaborn.pydata.org/) is a Python data visualization library based on matplotlib. It provides a high-level interface for drawing attractive and informative statistical graphics."
   ]
  },
  {
   "cell_type": "code",
   "execution_count": 18,
   "metadata": {},
   "outputs": [],
   "source": [
    "import seaborn as sns\n",
    "import matplotlib\n",
    "import matplotlib.pyplot as plt\n",
    "%matplotlib inline\n",
    "\n",
    "sns.set_style('darkgrid')\n",
    "matplotlib.rcParams['font.size'] = 14\n",
    "matplotlib.rcParams['figure.figsize'] = (9, 5)\n",
    "matplotlib.rcParams['figure.facecolor'] = '#00000000'"
   ]
  },
  {
   "cell_type": "markdown",
   "metadata": {},
   "source": [
    "[**NumPy**](https://numpy.org/) is the fundamental package for scientific computing in Python. It is a Python library that provides a multidimensional array object, various derived objects (such as masked arrays and matrices), and an assortment of routines for fast operations on arrays, including mathematical, logical, shape manipulation, sorting, selecting, I/O, discrete Fourier transforms, basic linear algebra, basic statistical operations, random simulation and much more."
   ]
  },
  {
   "cell_type": "code",
   "execution_count": 19,
   "metadata": {},
   "outputs": [],
   "source": [
    "import numpy as np"
   ]
  },
  {
   "cell_type": "markdown",
   "metadata": {},
   "source": [
    "Let's find out what percentage of players went unsold using Pie chart."
   ]
  },
  {
   "cell_type": "code",
   "execution_count": 20,
   "metadata": {},
   "outputs": [],
   "source": [
    "Teams = IPL_Auction_2022.groupby('Team')['Player'].count()"
   ]
  },
  {
   "cell_type": "code",
   "execution_count": 22,
   "metadata": {},
   "outputs": [
    {
     "data": {
      "image/png": "[encoded data removed]",
      "text/plain": [
       "<Figure size 648x360 with 1 Axes>"
      ]
     },
     "metadata": {},
     "output_type": "display_data"
    }
   ],
   "source": [
    "plt.pie(Teams, labels = Teams.index ,rotatelabels=False,labeldistance=1.2, startangle=-80, autopct='%1.f%%',pctdistance=0.8);\n"
   ]
  },
  {
   "cell_type": "markdown",
   "metadata": {},
   "source": [
    "Now we know that around 63% players went unsold. So, now let's find out how many players each team purchased in the auction."
   ]
  },
  {
   "cell_type": "code",
   "execution_count": 23,
   "metadata": {},
   "outputs": [
    {
     "data": {
      "image/png": "[encoded data removed]",
      "text/plain": [
       "<Figure size 648x360 with 1 Axes>"
      ]
     },
     "metadata": {
      "needs_background": "light"
     },
     "output_type": "display_data"
    }
   ],
   "source": [
    "player_count = IPL_Auction_2022_sold.groupby('Team')['Player'].count()\n",
    "plt.barh(player_count.index, player_count, color='c');"
   ]
  },
  {
   "cell_type": "markdown",
   "metadata": {},
   "source": [
    "It seems that each team purchased between 22 to 25 players. Punjab Kings, Mumbai Indians, Kolkata Knight Riders and Chennai Super Kings have purchased 25 players each."
   ]
  },
  {
   "cell_type": "markdown",
   "metadata": {},
   "source": [
    "Let's find out how much each team spent from their bucket."
   ]
  },
  {
   "cell_type": "code",
   "execution_count": 24,
   "metadata": {},
   "outputs": [
    {
     "name": "stderr",
     "output_type": "stream",
     "text": [
      "C:\\Users\\sanju\\AppData\\Local\\Temp\\ipykernel_10444\\2383795794.py:1: FutureWarning: The default value of numeric_only in DataFrameGroupBy.sum is deprecated. In a future version, numeric_only will default to False. Either specify numeric_only or select only columns which should be valid for the function.\n",
      "  total_cost = IPL_Auction_2022_sold.groupby('Team').sum().sort_values('COST IN ₹ (CR.)', ascending = False)\n"
     ]
    },
    {
     "data": {
      "text/html": [
       "<div>\n",
       "<style scoped>\n",
       "    .dataframe tbody tr th:only-of-type {\n",
       "        vertical-align: middle;\n",
       "    }\n",
       "\n",
       "    .dataframe tbody tr th {\n",
       "        vertical-align: top;\n",
       "    }\n",
       "\n",
       "    .dataframe thead th {\n",
       "        text-align: right;\n",
       "    }\n",
       "</style>\n",
       "<table border=\"1\" class=\"dataframe\">\n",
       "  <thead>\n",
       "    <tr style=\"text-align: right;\">\n",
       "      <th></th>\n",
       "      <th>COST IN ₹ (CR.)</th>\n",
       "    </tr>\n",
       "    <tr>\n",
       "      <th>Team</th>\n",
       "      <th></th>\n",
       "    </tr>\n",
       "  </thead>\n",
       "  <tbody>\n",
       "    <tr>\n",
       "      <th>Mumbai Indians</th>\n",
       "      <td>89.90</td>\n",
       "    </tr>\n",
       "    <tr>\n",
       "      <th>Sunrisers Hyderabad</th>\n",
       "      <td>89.90</td>\n",
       "    </tr>\n",
       "    <tr>\n",
       "      <th>Gujarat Titans</th>\n",
       "      <td>89.65</td>\n",
       "    </tr>\n",
       "    <tr>\n",
       "      <th>Lucknow Super Giants</th>\n",
       "      <td>89.40</td>\n",
       "    </tr>\n",
       "    <tr>\n",
       "      <th>Rajasthan Royals</th>\n",
       "      <td>89.05</td>\n",
       "    </tr>\n",
       "    <tr>\n",
       "      <th>Royal Challengers Bangalore</th>\n",
       "      <td>88.45</td>\n",
       "    </tr>\n",
       "    <tr>\n",
       "      <th>Chennai Super Kings</th>\n",
       "      <td>87.05</td>\n",
       "    </tr>\n",
       "    <tr>\n",
       "      <th>Delhi Capitals</th>\n",
       "      <td>86.40</td>\n",
       "    </tr>\n",
       "    <tr>\n",
       "      <th>Punjab Kings</th>\n",
       "      <td>84.55</td>\n",
       "    </tr>\n",
       "    <tr>\n",
       "      <th>Kolkata Knight Riders</th>\n",
       "      <td>81.55</td>\n",
       "    </tr>\n",
       "  </tbody>\n",
       "</table>\n",
       "</div>"
      ],
      "text/plain": [
       "                             COST IN ₹ (CR.)\n",
       "Team                                        \n",
       "Mumbai Indians                         89.90\n",
       "Sunrisers Hyderabad                    89.90\n",
       "Gujarat Titans                         89.65\n",
       "Lucknow Super Giants                   89.40\n",
       "Rajasthan Royals                       89.05\n",
       "Royal Challengers Bangalore            88.45\n",
       "Chennai Super Kings                    87.05\n",
       "Delhi Capitals                         86.40\n",
       "Punjab Kings                           84.55\n",
       "Kolkata Knight Riders                  81.55"
      ]
     },
     "execution_count": 24,
     "metadata": {},
     "output_type": "execute_result"
    }
   ],
   "source": [
    "total_cost = IPL_Auction_2022_sold.groupby('Team').sum().sort_values('COST IN ₹ (CR.)', ascending = False)\n",
    "total_cost"
   ]
  },
  {
   "cell_type": "code",
   "execution_count": 25,
   "metadata": {},
   "outputs": [
    {
     "data": {
      "image/png": "[encoded data removed]",
      "text/plain": [
       "<Figure size 648x360 with 1 Axes>"
      ]
     },
     "metadata": {
      "needs_background": "light"
     },
     "output_type": "display_data"
    }
   ],
   "source": [
    "plt.bar(total_cost.index,total_cost['COST IN ₹ (CR.)']);\n",
    "plt.xticks(rotation=75);"
   ]
  },
  {
   "cell_type": "markdown",
   "metadata": {},
   "source": [
    "Mumbai Indians has spent most 89.9 CR. and Kolkata Knight Riders has spent least 81.55 CR. But from the bar graph we can see that the difference is not much, infact it's less than 9 CR."
   ]
  },
  {
   "cell_type": "markdown",
   "metadata": {},
   "source": [
    "Now let's explore the percentage of type of players sold in this auction"
   ]
  },
  {
   "cell_type": "code",
   "execution_count": 28,
   "metadata": {},
   "outputs": [],
   "source": [
    "Player_type = IPL_Auction_2022_sold.groupby('TYPE')['Player'].count()"
   ]
  },
  {
   "cell_type": "code",
   "execution_count": 29,
   "metadata": {},
   "outputs": [
    {
     "data": {
      "image/png": "[encoded data removed]",
      "text/plain": [
       "<Figure size 648x360 with 1 Axes>"
      ]
     },
     "metadata": {},
     "output_type": "display_data"
    }
   ],
   "source": [
    "plt.pie(Player_type, labels = Player_type.index ,rotatelabels=False,labeldistance=1.2,  autopct='%1.f%%',pctdistance=0.5);"
   ]
  },
  {
   "cell_type": "markdown",
   "metadata": {},
   "source": [
    "From the above Pie chart we can observe that All-Rounders and Bowlers were most in the demand."
   ]
  },
  {
   "cell_type": "markdown",
   "metadata": {},
   "source": [
    "Let's use histogram to see the frequency of players sold for different prize ranges."
   ]
  },
  {
   "cell_type": "code",
   "execution_count": 30,
   "metadata": {},
   "outputs": [
    {
     "data": {
      "image/png": "[encoded data removed]",
      "text/plain": [
       "<Figure size 648x360 with 1 Axes>"
      ]
     },
     "metadata": {
      "needs_background": "light"
     },
     "output_type": "display_data"
    }
   ],
   "source": [
    "plt.hist(IPL_Auction_2022_sold['COST IN ₹ (CR.)'], color = 'm');"
   ]
  },
  {
   "cell_type": "markdown",
   "metadata": {},
   "source": [
    "From the above histogram we observed that around 120 players bagged the prize between 0.2 to 2 Cr. Now let's have a closer look at this in below graph."
   ]
  },
  {
   "cell_type": "code",
   "execution_count": 31,
   "metadata": {
    "scrolled": false
   },
   "outputs": [
    {
     "data": {
      "image/png": "[encoded data removed]",
      "text/plain": [
       "<Figure size 648x360 with 1 Axes>"
      ]
     },
     "metadata": {
      "needs_background": "light"
     },
     "output_type": "display_data"
    }
   ],
   "source": [
    "plt.hist(IPL_Auction_2022_sold['COST IN ₹ (CR.)'], color = 'c', bins=np.arange(0, 2, 0.2));"
   ]
  },
  {
   "cell_type": "markdown",
   "metadata": {},
   "source": [
    "From the above histogram we can observe that out of those 120 players around 60 players bagged the prize between 0.2 to .4 Cr. And around 22 players went for 0.4 to 0.6 Cr. and so on. Now let's have a closer look on the players above 10 Cr."
   ]
  },
  {
   "cell_type": "code",
   "execution_count": 32,
   "metadata": {
    "scrolled": true
   },
   "outputs": [
    {
     "data": {
      "image/png": "[encoded data removed]",
      "text/plain": [
       "<Figure size 648x360 with 1 Axes>"
      ]
     },
     "metadata": {
      "needs_background": "light"
     },
     "output_type": "display_data"
    }
   ],
   "source": [
    "plt.hist(IPL_Auction_2022_sold['COST IN ₹ (CR.)'], color = 'y', bins=np.arange(10, 18, 1));"
   ]
  },
  {
   "cell_type": "markdown",
   "metadata": {},
   "source": [
    "From the above histogram now its more clear about the numbers of highest paid players. We can see that almost 4 players were sold for 15-16 Cr. and 4 players for 16-17 Cr. and so on."
   ]
  },
  {
   "cell_type": "markdown",
   "metadata": {},
   "source": [
    "## Asking and Answering Questions\n",
    "\n",
    "In this section we are going to dig deeper the dataset and ask some interesting questions and answer them by performing some manipulations. We may need to use some Python libraries, such as Pandas/Numpy/Matplotlib etc.\n",
    "\n"
   ]
  },
  {
   "cell_type": "markdown",
   "metadata": {},
   "source": [
    "#### Q1: Who are the 15 Highest paid Cricketers? How many players each team have out of these 15 players? What are the types of these players?"
   ]
  },
  {
   "cell_type": "code",
   "execution_count": 34,
   "metadata": {
    "scrolled": false
   },
   "outputs": [
    {
     "data": {
      "text/html": [
       "<div>\n",
       "<style scoped>\n",
       "    .dataframe tbody tr th:only-of-type {\n",
       "        vertical-align: middle;\n",
       "    }\n",
       "\n",
       "    .dataframe tbody tr th {\n",
       "        vertical-align: top;\n",
       "    }\n",
       "\n",
       "    .dataframe thead th {\n",
       "        text-align: right;\n",
       "    }\n",
       "</style>\n",
       "<table border=\"1\" class=\"dataframe\">\n",
       "  <thead>\n",
       "    <tr style=\"text-align: right;\">\n",
       "      <th></th>\n",
       "      <th>Player</th>\n",
       "      <th>Base Price</th>\n",
       "      <th>TYPE</th>\n",
       "      <th>COST IN ₹ (CR.)</th>\n",
       "      <th>2021 Squad</th>\n",
       "      <th>Team</th>\n",
       "    </tr>\n",
       "  </thead>\n",
       "  <tbody>\n",
       "    <tr>\n",
       "      <th>121</th>\n",
       "      <td>KL Rahul</td>\n",
       "      <td>Draft Pick</td>\n",
       "      <td>WICKETKEEPER</td>\n",
       "      <td>17.00</td>\n",
       "      <td>PBKS</td>\n",
       "      <td>Lucknow Super Giants</td>\n",
       "    </tr>\n",
       "    <tr>\n",
       "      <th>22</th>\n",
       "      <td>Ravindra Jadeja</td>\n",
       "      <td>Retained</td>\n",
       "      <td>ALL-ROUNDER</td>\n",
       "      <td>16.00</td>\n",
       "      <td>CSK</td>\n",
       "      <td>Chennai Super Kings</td>\n",
       "    </tr>\n",
       "    <tr>\n",
       "      <th>143</th>\n",
       "      <td>Rohit Sharma</td>\n",
       "      <td>Retained</td>\n",
       "      <td>BATTER</td>\n",
       "      <td>16.00</td>\n",
       "      <td>MI</td>\n",
       "      <td>Mumbai Indians</td>\n",
       "    </tr>\n",
       "    <tr>\n",
       "      <th>47</th>\n",
       "      <td>Rishabh Pant</td>\n",
       "      <td>Retained</td>\n",
       "      <td>WICKETKEEPER</td>\n",
       "      <td>16.00</td>\n",
       "      <td>DC</td>\n",
       "      <td>Delhi Capitals</td>\n",
       "    </tr>\n",
       "    <tr>\n",
       "      <th>144</th>\n",
       "      <td>Ishan Kishan</td>\n",
       "      <td>2 Cr</td>\n",
       "      <td>WICKETKEEPER</td>\n",
       "      <td>15.25</td>\n",
       "      <td>MI</td>\n",
       "      <td>Mumbai Indians</td>\n",
       "    </tr>\n",
       "    <tr>\n",
       "      <th>0</th>\n",
       "      <td>Rashid Khan</td>\n",
       "      <td>Draft Pick</td>\n",
       "      <td>BOWLER</td>\n",
       "      <td>15.00</td>\n",
       "      <td>SRH</td>\n",
       "      <td>Gujarat Titans</td>\n",
       "    </tr>\n",
       "    <tr>\n",
       "      <th>168</th>\n",
       "      <td>Virat Kohli</td>\n",
       "      <td>Retained</td>\n",
       "      <td>BATTER</td>\n",
       "      <td>15.00</td>\n",
       "      <td>RCB</td>\n",
       "      <td>Royal Challengers Bangalore</td>\n",
       "    </tr>\n",
       "    <tr>\n",
       "      <th>1</th>\n",
       "      <td>Hardik Pandya</td>\n",
       "      <td>Draft Pick</td>\n",
       "      <td>ALL-ROUNDER</td>\n",
       "      <td>15.00</td>\n",
       "      <td>MI</td>\n",
       "      <td>Gujarat Titans</td>\n",
       "    </tr>\n",
       "    <tr>\n",
       "      <th>190</th>\n",
       "      <td>Sanju Samson</td>\n",
       "      <td>Retained</td>\n",
       "      <td>WICKETKEEPER</td>\n",
       "      <td>14.00</td>\n",
       "      <td>RR</td>\n",
       "      <td>Rajasthan Royals</td>\n",
       "    </tr>\n",
       "    <tr>\n",
       "      <th>214</th>\n",
       "      <td>Kane Williamson</td>\n",
       "      <td>Retained</td>\n",
       "      <td>BATTER</td>\n",
       "      <td>14.00</td>\n",
       "      <td>SRH</td>\n",
       "      <td>Sunrisers Hyderabad</td>\n",
       "    </tr>\n",
       "    <tr>\n",
       "      <th>23</th>\n",
       "      <td>Deepak Chahar</td>\n",
       "      <td>2 Cr</td>\n",
       "      <td>BOWLER</td>\n",
       "      <td>14.00</td>\n",
       "      <td>CSK</td>\n",
       "      <td>Chennai Super Kings</td>\n",
       "    </tr>\n",
       "    <tr>\n",
       "      <th>71</th>\n",
       "      <td>Shreyas Iyer</td>\n",
       "      <td>2 Cr</td>\n",
       "      <td>BATTER</td>\n",
       "      <td>12.25</td>\n",
       "      <td>DC</td>\n",
       "      <td>Kolkata Knight Riders</td>\n",
       "    </tr>\n",
       "    <tr>\n",
       "      <th>145</th>\n",
       "      <td>Jasprit Bumrah</td>\n",
       "      <td>Retained</td>\n",
       "      <td>BOWLER</td>\n",
       "      <td>12.00</td>\n",
       "      <td>MI</td>\n",
       "      <td>Mumbai Indians</td>\n",
       "    </tr>\n",
       "    <tr>\n",
       "      <th>96</th>\n",
       "      <td>Mayank Agarwal</td>\n",
       "      <td>Retained</td>\n",
       "      <td>BATTER</td>\n",
       "      <td>12.00</td>\n",
       "      <td>PBKS</td>\n",
       "      <td>Punjab Kings</td>\n",
       "    </tr>\n",
       "    <tr>\n",
       "      <th>72</th>\n",
       "      <td>Andre Russell</td>\n",
       "      <td>Retained</td>\n",
       "      <td>ALL-ROUNDER</td>\n",
       "      <td>12.00</td>\n",
       "      <td>KKR</td>\n",
       "      <td>Kolkata Knight Riders</td>\n",
       "    </tr>\n",
       "  </tbody>\n",
       "</table>\n",
       "</div>"
      ],
      "text/plain": [
       "              Player  Base Price          TYPE  COST IN ₹ (CR.) 2021 Squad  \\\n",
       "121         KL Rahul  Draft Pick  WICKETKEEPER            17.00       PBKS   \n",
       "22   Ravindra Jadeja    Retained   ALL-ROUNDER            16.00        CSK   \n",
       "143     Rohit Sharma    Retained        BATTER            16.00         MI   \n",
       "47      Rishabh Pant    Retained  WICKETKEEPER            16.00         DC   \n",
       "144     Ishan Kishan        2 Cr  WICKETKEEPER            15.25         MI   \n",
       "0        Rashid Khan  Draft Pick        BOWLER            15.00        SRH   \n",
       "168      Virat Kohli    Retained        BATTER            15.00        RCB   \n",
       "1      Hardik Pandya  Draft Pick   ALL-ROUNDER            15.00         MI   \n",
       "190     Sanju Samson    Retained  WICKETKEEPER            14.00         RR   \n",
       "214  Kane Williamson    Retained        BATTER            14.00        SRH   \n",
       "23     Deepak Chahar        2 Cr        BOWLER            14.00        CSK   \n",
       "71      Shreyas Iyer        2 Cr        BATTER            12.25         DC   \n",
       "145   Jasprit Bumrah    Retained        BOWLER            12.00         MI   \n",
       "96    Mayank Agarwal    Retained        BATTER            12.00       PBKS   \n",
       "72     Andre Russell    Retained   ALL-ROUNDER            12.00        KKR   \n",
       "\n",
       "                            Team  \n",
       "121         Lucknow Super Giants  \n",
       "22           Chennai Super Kings  \n",
       "143               Mumbai Indians  \n",
       "47                Delhi Capitals  \n",
       "144               Mumbai Indians  \n",
       "0                 Gujarat Titans  \n",
       "168  Royal Challengers Bangalore  \n",
       "1                 Gujarat Titans  \n",
       "190             Rajasthan Royals  \n",
       "214          Sunrisers Hyderabad  \n",
       "23           Chennai Super Kings  \n",
       "71         Kolkata Knight Riders  \n",
       "145               Mumbai Indians  \n",
       "96                  Punjab Kings  \n",
       "72         Kolkata Knight Riders  "
      ]
     },
     "execution_count": 34,
     "metadata": {},
     "output_type": "execute_result"
    }
   ],
   "source": [
    "highest_paid = IPL_Auction_2022_sold.sort_values( 'COST IN ₹ (CR.)',ascending = False).head(15)\n",
    "highest_paid"
   ]
  },
  {
   "cell_type": "markdown",
   "metadata": {},
   "source": [
    "Above table shows the 15 Highest paid players."
   ]
  },
  {
   "cell_type": "code",
   "execution_count": 35,
   "metadata": {},
   "outputs": [
    {
     "data": {
      "image/png": "[encoded data removed]",
      "text/plain": [
       "<Figure size 648x360 with 1 Axes>"
      ]
     },
     "metadata": {
      "needs_background": "light"
     },
     "output_type": "display_data"
    }
   ],
   "source": [
    "hp_count = highest_paid.groupby('Team')['Player'].count()\n",
    "plt.barh(hp_count.index, hp_count, height=0.7);"
   ]
  },
  {
   "cell_type": "markdown",
   "metadata": {},
   "source": [
    "Above bar graph shows the number of players each team has out of these 15 players. So, all the teams have atleast one player from this top 15 players."
   ]
  },
  {
   "cell_type": "code",
   "execution_count": 36,
   "metadata": {
    "scrolled": true
   },
   "outputs": [
    {
     "data": {
      "image/png": "[encoded data removed]",
      "text/plain": [
       "<Figure size 648x360 with 1 Axes>"
      ]
     },
     "metadata": {
      "needs_background": "light"
     },
     "output_type": "display_data"
    }
   ],
   "source": [
    "hp_type_count = highest_paid.groupby('TYPE')['Player'].count()\n",
    "#plt.bar(hp_type_count.index, hp_type_count);\n",
    "sns.barplot(x=hp_type_count.index, y=hp_type_count);"
   ]
  },
  {
   "cell_type": "markdown",
   "metadata": {},
   "source": [
    "Above graph shows type of those top players. 5 players are the pure Batters."
   ]
  },
  {
   "cell_type": "markdown",
   "metadata": {},
   "source": [
    "#### Q2: Show the frequency of players based on their base price."
   ]
  },
  {
   "cell_type": "code",
   "execution_count": 37,
   "metadata": {},
   "outputs": [],
   "source": [
    "base_price = IPL_Auction_2022_sold.groupby('Base Price')['Player'].count()"
   ]
  },
  {
   "cell_type": "code",
   "execution_count": 38,
   "metadata": {
    "scrolled": false
   },
   "outputs": [
    {
     "data": {
      "image/png": "[encoded data removed]",
      "text/plain": [
       "<Figure size 648x360 with 1 Axes>"
      ]
     },
     "metadata": {
      "needs_background": "light"
     },
     "output_type": "display_data"
    }
   ],
   "source": [
    "plt.bar(base_price.index, base_price);\n",
    "plt.xticks(rotation=75);"
   ]
  },
  {
   "cell_type": "markdown",
   "metadata": {},
   "source": [
    "Of all sold players more than 80 players had their base price as 20 Lakh, more than 25 players were retained and around 5-6 players were draft picked."
   ]
  },
  {
   "cell_type": "markdown",
   "metadata": {},
   "source": [
    "#### Q3: Find the top 10 most valued players (players who received highest multiple of their base price)"
   ]
  },
  {
   "cell_type": "markdown",
   "metadata": {},
   "source": [
    "In the existing dataset the 'Base Price' has the object data type, therefore it can not be computed and compared with their cost. So, we first need to create a new column where the base price will be in (Cr.) and data type will be float. Therefore, we need to define a function to convert these into Cr. rupees. The function is defined below. Also, the 'Draft Pick' and 'Retained' types will be set as 'none' in new column as they cant be compared."
   ]
  },
  {
   "cell_type": "code",
   "execution_count": 40,
   "metadata": {},
   "outputs": [
    {
     "data": {
      "text/plain": [
       "0      Draft Pick\n",
       "1      Draft Pick\n",
       "2            2 Cr\n",
       "3         40 Lakh\n",
       "4      Draft Pick\n",
       "          ...    \n",
       "628       20 Lakh\n",
       "629       20 Lakh\n",
       "630       20 Lakh\n",
       "631       20 Lakh\n",
       "632       20 Lakh\n",
       "Name: Base Price, Length: 633, dtype: object"
      ]
     },
     "execution_count": 40,
     "metadata": {},
     "output_type": "execute_result"
    }
   ],
   "source": [
    "IPL_Auction_raw_df['Base Price']"
   ]
  },
  {
   "cell_type": "code",
   "execution_count": 41,
   "metadata": {},
   "outputs": [
    {
     "data": {
      "text/plain": [
       "array(['Draft Pick', '2 Cr', '40 Lakh', '20 Lakh', '1 Cr', '75 Lakh',\n",
       "       '50 Lakh', '30 Lakh', 'Retained', '1.5 Cr'], dtype=object)"
      ]
     },
     "execution_count": 41,
     "metadata": {},
     "output_type": "execute_result"
    }
   ],
   "source": [
    "IPL_Auction_raw_df['Base Price'].unique()"
   ]
  },
  {
   "cell_type": "code",
   "execution_count": 42,
   "metadata": {},
   "outputs": [],
   "source": [
    "def to_rupees(b):\n",
    "    base_price_new = []\n",
    "    for i in b:\n",
    "        if i == '20 Lakh':\n",
    "            base_price_new.append(0.2)\n",
    "        elif i == '30 Lakh':\n",
    "            base_price_new.append(0.3)\n",
    "        elif i == '40 Lakh':\n",
    "            base_price_new.append(0.4)\n",
    "        elif i == '50 Lakh':\n",
    "            base_price_new.append(0.5)\n",
    "        elif i == '75 Lakh':\n",
    "            base_price_new.append(0.75)\n",
    "        elif i == '1 Cr':\n",
    "            base_price_new.append(1)\n",
    "        elif i == '1.5 Cr':\n",
    "            base_price_new.append(1.5)\n",
    "        elif i == '2 Cr':\n",
    "            base_price_new.append(2)\n",
    "        else:\n",
    "            base_price_new.append(None)\n",
    "    return base_price_new"
   ]
  },
  {
   "cell_type": "code",
   "execution_count": 43,
   "metadata": {},
   "outputs": [],
   "source": [
    "Base_price_inCr = to_rupees(IPL_Auction_2022_sold['Base Price'])"
   ]
  },
  {
   "cell_type": "code",
   "execution_count": 44,
   "metadata": {},
   "outputs": [
    {
     "data": {
      "text/plain": [
       "237"
      ]
     },
     "execution_count": 44,
     "metadata": {},
     "output_type": "execute_result"
    }
   ],
   "source": [
    "len(Base_price_inCr)"
   ]
  },
  {
   "cell_type": "code",
   "execution_count": 45,
   "metadata": {},
   "outputs": [],
   "source": [
    "IPL_Auction_2022_sold['Base Price (in Cr.)'] = pd.Series(Base_price_inCr)"
   ]
  },
  {
   "cell_type": "code",
   "execution_count": 46,
   "metadata": {
    "scrolled": false
   },
   "outputs": [
    {
     "data": {
      "text/html": [
       "<div>\n",
       "<style scoped>\n",
       "    .dataframe tbody tr th:only-of-type {\n",
       "        vertical-align: middle;\n",
       "    }\n",
       "\n",
       "    .dataframe tbody tr th {\n",
       "        vertical-align: top;\n",
       "    }\n",
       "\n",
       "    .dataframe thead th {\n",
       "        text-align: right;\n",
       "    }\n",
       "</style>\n",
       "<table border=\"1\" class=\"dataframe\">\n",
       "  <thead>\n",
       "    <tr style=\"text-align: right;\">\n",
       "      <th></th>\n",
       "      <th>Player</th>\n",
       "      <th>Base Price</th>\n",
       "      <th>TYPE</th>\n",
       "      <th>COST IN ₹ (CR.)</th>\n",
       "      <th>2021 Squad</th>\n",
       "      <th>Team</th>\n",
       "      <th>Base Price (in Cr.)</th>\n",
       "    </tr>\n",
       "  </thead>\n",
       "  <tbody>\n",
       "    <tr>\n",
       "      <th>0</th>\n",
       "      <td>Rashid Khan</td>\n",
       "      <td>Draft Pick</td>\n",
       "      <td>BOWLER</td>\n",
       "      <td>15.0</td>\n",
       "      <td>SRH</td>\n",
       "      <td>Gujarat Titans</td>\n",
       "      <td>NaN</td>\n",
       "    </tr>\n",
       "    <tr>\n",
       "      <th>1</th>\n",
       "      <td>Hardik Pandya</td>\n",
       "      <td>Draft Pick</td>\n",
       "      <td>ALL-ROUNDER</td>\n",
       "      <td>15.0</td>\n",
       "      <td>MI</td>\n",
       "      <td>Gujarat Titans</td>\n",
       "      <td>NaN</td>\n",
       "    </tr>\n",
       "    <tr>\n",
       "      <th>2</th>\n",
       "      <td>Lockie Ferguson</td>\n",
       "      <td>2 Cr</td>\n",
       "      <td>BOWLER</td>\n",
       "      <td>10.0</td>\n",
       "      <td>KKR</td>\n",
       "      <td>Gujarat Titans</td>\n",
       "      <td>2.0</td>\n",
       "    </tr>\n",
       "    <tr>\n",
       "      <th>3</th>\n",
       "      <td>Rahul Tewatia</td>\n",
       "      <td>40 Lakh</td>\n",
       "      <td>ALL-ROUNDER</td>\n",
       "      <td>9.0</td>\n",
       "      <td>RR</td>\n",
       "      <td>Gujarat Titans</td>\n",
       "      <td>0.4</td>\n",
       "    </tr>\n",
       "    <tr>\n",
       "      <th>4</th>\n",
       "      <td>Shubman Gill</td>\n",
       "      <td>Draft Pick</td>\n",
       "      <td>BATTER</td>\n",
       "      <td>8.0</td>\n",
       "      <td>KKR</td>\n",
       "      <td>Gujarat Titans</td>\n",
       "      <td>NaN</td>\n",
       "    </tr>\n",
       "    <tr>\n",
       "      <th>...</th>\n",
       "      <td>...</td>\n",
       "      <td>...</td>\n",
       "      <td>...</td>\n",
       "      <td>...</td>\n",
       "      <td>...</td>\n",
       "      <td>...</td>\n",
       "      <td>...</td>\n",
       "    </tr>\n",
       "    <tr>\n",
       "      <th>232</th>\n",
       "      <td>Priyam Garg</td>\n",
       "      <td>20 Lakh</td>\n",
       "      <td>BATTER</td>\n",
       "      <td>0.2</td>\n",
       "      <td>SRH</td>\n",
       "      <td>Sunrisers Hyderabad</td>\n",
       "      <td>0.2</td>\n",
       "    </tr>\n",
       "    <tr>\n",
       "      <th>233</th>\n",
       "      <td>R Samarth</td>\n",
       "      <td>20 Lakh</td>\n",
       "      <td>BATTER</td>\n",
       "      <td>0.2</td>\n",
       "      <td>NaN</td>\n",
       "      <td>Sunrisers Hyderabad</td>\n",
       "      <td>0.2</td>\n",
       "    </tr>\n",
       "    <tr>\n",
       "      <th>234</th>\n",
       "      <td>Jagadeesha Suchith</td>\n",
       "      <td>20 Lakh</td>\n",
       "      <td>BOWLER</td>\n",
       "      <td>0.2</td>\n",
       "      <td>SRH</td>\n",
       "      <td>Sunrisers Hyderabad</td>\n",
       "      <td>0.2</td>\n",
       "    </tr>\n",
       "    <tr>\n",
       "      <th>235</th>\n",
       "      <td>Shashank Singh</td>\n",
       "      <td>20 Lakh</td>\n",
       "      <td>ALL-ROUNDER</td>\n",
       "      <td>0.2</td>\n",
       "      <td>NaN</td>\n",
       "      <td>Sunrisers Hyderabad</td>\n",
       "      <td>0.2</td>\n",
       "    </tr>\n",
       "    <tr>\n",
       "      <th>236</th>\n",
       "      <td>Saurabh Dubey</td>\n",
       "      <td>20 Lakh</td>\n",
       "      <td>BOWLER</td>\n",
       "      <td>0.2</td>\n",
       "      <td>NaN</td>\n",
       "      <td>Sunrisers Hyderabad</td>\n",
       "      <td>0.2</td>\n",
       "    </tr>\n",
       "  </tbody>\n",
       "</table>\n",
       "<p>237 rows × 7 columns</p>\n",
       "</div>"
      ],
      "text/plain": [
       "                 Player  Base Price         TYPE  COST IN ₹ (CR.) 2021 Squad  \\\n",
       "0           Rashid Khan  Draft Pick       BOWLER             15.0        SRH   \n",
       "1         Hardik Pandya  Draft Pick  ALL-ROUNDER             15.0         MI   \n",
       "2       Lockie Ferguson        2 Cr       BOWLER             10.0        KKR   \n",
       "3         Rahul Tewatia     40 Lakh  ALL-ROUNDER              9.0         RR   \n",
       "4          Shubman Gill  Draft Pick       BATTER              8.0        KKR   \n",
       "..                  ...         ...          ...              ...        ...   \n",
       "232         Priyam Garg     20 Lakh       BATTER              0.2        SRH   \n",
       "233           R Samarth     20 Lakh       BATTER              0.2        NaN   \n",
       "234  Jagadeesha Suchith     20 Lakh       BOWLER              0.2        SRH   \n",
       "235      Shashank Singh     20 Lakh  ALL-ROUNDER              0.2        NaN   \n",
       "236       Saurabh Dubey     20 Lakh       BOWLER              0.2        NaN   \n",
       "\n",
       "                    Team  Base Price (in Cr.)  \n",
       "0         Gujarat Titans                  NaN  \n",
       "1         Gujarat Titans                  NaN  \n",
       "2         Gujarat Titans                  2.0  \n",
       "3         Gujarat Titans                  0.4  \n",
       "4         Gujarat Titans                  NaN  \n",
       "..                   ...                  ...  \n",
       "232  Sunrisers Hyderabad                  0.2  \n",
       "233  Sunrisers Hyderabad                  0.2  \n",
       "234  Sunrisers Hyderabad                  0.2  \n",
       "235  Sunrisers Hyderabad                  0.2  \n",
       "236  Sunrisers Hyderabad                  0.2  \n",
       "\n",
       "[237 rows x 7 columns]"
      ]
     },
     "execution_count": 46,
     "metadata": {},
     "output_type": "execute_result"
    }
   ],
   "source": [
    "IPL_Auction_2022_sold"
   ]
  },
  {
   "cell_type": "markdown",
   "metadata": {},
   "source": [
    "Here, in the above table a new column named 'Base Price (in Cr.)' has been added. Now it can be compared with the Cost of players. See below."
   ]
  },
  {
   "cell_type": "code",
   "execution_count": 47,
   "metadata": {},
   "outputs": [],
   "source": [
    "IPL_Auction_2022_sold['value'] = (IPL_Auction_2022_sold['COST IN ₹ (CR.)']/IPL_Auction_2022_sold['Base Price (in Cr.)'])"
   ]
  },
  {
   "cell_type": "code",
   "execution_count": 48,
   "metadata": {
    "scrolled": true
   },
   "outputs": [
    {
     "data": {
      "text/html": [
       "<div>\n",
       "<style scoped>\n",
       "    .dataframe tbody tr th:only-of-type {\n",
       "        vertical-align: middle;\n",
       "    }\n",
       "\n",
       "    .dataframe tbody tr th {\n",
       "        vertical-align: top;\n",
       "    }\n",
       "\n",
       "    .dataframe thead th {\n",
       "        text-align: right;\n",
       "    }\n",
       "</style>\n",
       "<table border=\"1\" class=\"dataframe\">\n",
       "  <thead>\n",
       "    <tr style=\"text-align: right;\">\n",
       "      <th></th>\n",
       "      <th>Player</th>\n",
       "      <th>value</th>\n",
       "      <th>Base Price</th>\n",
       "      <th>COST IN ₹ (CR.)</th>\n",
       "    </tr>\n",
       "  </thead>\n",
       "  <tbody>\n",
       "    <tr>\n",
       "      <th>122</th>\n",
       "      <td>Avesh Khan</td>\n",
       "      <td>50.000</td>\n",
       "      <td>20 Lakh</td>\n",
       "      <td>10.00</td>\n",
       "    </tr>\n",
       "    <tr>\n",
       "      <th>219</th>\n",
       "      <td>Abhishek Sharma</td>\n",
       "      <td>32.500</td>\n",
       "      <td>20 Lakh</td>\n",
       "      <td>6.50</td>\n",
       "    </tr>\n",
       "    <tr>\n",
       "      <th>99</th>\n",
       "      <td>Shahrukh Khan</td>\n",
       "      <td>22.500</td>\n",
       "      <td>40 Lakh</td>\n",
       "      <td>9.00</td>\n",
       "    </tr>\n",
       "    <tr>\n",
       "      <th>3</th>\n",
       "      <td>Rahul Tewatia</td>\n",
       "      <td>22.500</td>\n",
       "      <td>40 Lakh</td>\n",
       "      <td>9.00</td>\n",
       "    </tr>\n",
       "    <tr>\n",
       "      <th>217</th>\n",
       "      <td>Rahul Tripathi</td>\n",
       "      <td>21.250</td>\n",
       "      <td>40 Lakh</td>\n",
       "      <td>8.50</td>\n",
       "    </tr>\n",
       "    <tr>\n",
       "      <th>146</th>\n",
       "      <td>Tim David</td>\n",
       "      <td>20.625</td>\n",
       "      <td>40 Lakh</td>\n",
       "      <td>8.25</td>\n",
       "    </tr>\n",
       "    <tr>\n",
       "      <th>225</th>\n",
       "      <td>Kartik Tyagi</td>\n",
       "      <td>20.000</td>\n",
       "      <td>20 Lakh</td>\n",
       "      <td>4.00</td>\n",
       "    </tr>\n",
       "    <tr>\n",
       "      <th>105</th>\n",
       "      <td>Harpreet Brar</td>\n",
       "      <td>19.000</td>\n",
       "      <td>20 Lakh</td>\n",
       "      <td>3.80</td>\n",
       "    </tr>\n",
       "    <tr>\n",
       "      <th>77</th>\n",
       "      <td>Shivam Mavi</td>\n",
       "      <td>18.125</td>\n",
       "      <td>40 Lakh</td>\n",
       "      <td>7.25</td>\n",
       "    </tr>\n",
       "    <tr>\n",
       "      <th>176</th>\n",
       "      <td>Anuj Rawat</td>\n",
       "      <td>17.000</td>\n",
       "      <td>20 Lakh</td>\n",
       "      <td>3.40</td>\n",
       "    </tr>\n",
       "  </tbody>\n",
       "</table>\n",
       "</div>"
      ],
      "text/plain": [
       "              Player   value Base Price  COST IN ₹ (CR.)\n",
       "122       Avesh Khan  50.000    20 Lakh            10.00\n",
       "219  Abhishek Sharma  32.500    20 Lakh             6.50\n",
       "99     Shahrukh Khan  22.500    40 Lakh             9.00\n",
       "3      Rahul Tewatia  22.500    40 Lakh             9.00\n",
       "217   Rahul Tripathi  21.250    40 Lakh             8.50\n",
       "146        Tim David  20.625    40 Lakh             8.25\n",
       "225     Kartik Tyagi  20.000    20 Lakh             4.00\n",
       "105    Harpreet Brar  19.000    20 Lakh             3.80\n",
       "77       Shivam Mavi  18.125    40 Lakh             7.25\n",
       "176       Anuj Rawat  17.000    20 Lakh             3.40"
      ]
     },
     "execution_count": 48,
     "metadata": {},
     "output_type": "execute_result"
    }
   ],
   "source": [
    "most_valued = IPL_Auction_2022_sold[['Player','value','Base Price','COST IN ₹ (CR.)']].sort_values('value', ascending = False).head(10)\n",
    "most_valued"
   ]
  },
  {
   "cell_type": "markdown",
   "metadata": {},
   "source": [
    "Here, a subset of original date frame named 'most_valued' has been created , which also include a new column 'value', which shows what multiple of base price the cost the player is. "
   ]
  },
  {
   "cell_type": "code",
   "execution_count": 49,
   "metadata": {},
   "outputs": [
    {
     "data": {
      "image/png": "[encoded data removed]",
      "text/plain": [
       "<Figure size 648x360 with 1 Axes>"
      ]
     },
     "metadata": {
      "needs_background": "light"
     },
     "output_type": "display_data"
    }
   ],
   "source": [
    "sns.barplot(x='Player', y='value', data=most_valued);\n",
    "plt.xticks(rotation=75);"
   ]
  },
  {
   "cell_type": "markdown",
   "metadata": {},
   "source": [
    "From the above graph and table we can observe that Avesh Khan received the amount 50 times of his base price, which is really huge jump, also the second player Abhishek Sharma received 32.5 times of his base price and remaining 8 players went for around 20 times their base price."
   ]
  },
  {
   "cell_type": "markdown",
   "metadata": {},
   "source": [
    "#### Q4: Who are the top 10 Wicket Keepers of this auction? compare their cost by showing in a bar graph."
   ]
  },
  {
   "cell_type": "code",
   "execution_count": 50,
   "metadata": {},
   "outputs": [
    {
     "data": {
      "text/html": [
       "<div>\n",
       "<style scoped>\n",
       "    .dataframe tbody tr th:only-of-type {\n",
       "        vertical-align: middle;\n",
       "    }\n",
       "\n",
       "    .dataframe tbody tr th {\n",
       "        vertical-align: top;\n",
       "    }\n",
       "\n",
       "    .dataframe thead th {\n",
       "        text-align: right;\n",
       "    }\n",
       "</style>\n",
       "<table border=\"1\" class=\"dataframe\">\n",
       "  <thead>\n",
       "    <tr style=\"text-align: right;\">\n",
       "      <th></th>\n",
       "      <th>Player</th>\n",
       "      <th>Base Price</th>\n",
       "      <th>TYPE</th>\n",
       "      <th>COST IN ₹ (CR.)</th>\n",
       "      <th>2021 Squad</th>\n",
       "      <th>Team</th>\n",
       "      <th>Base Price (in Cr.)</th>\n",
       "      <th>value</th>\n",
       "    </tr>\n",
       "  </thead>\n",
       "  <tbody>\n",
       "    <tr>\n",
       "      <th>121</th>\n",
       "      <td>KL Rahul</td>\n",
       "      <td>Draft Pick</td>\n",
       "      <td>WICKETKEEPER</td>\n",
       "      <td>17.00</td>\n",
       "      <td>PBKS</td>\n",
       "      <td>Lucknow Super Giants</td>\n",
       "      <td>NaN</td>\n",
       "      <td>NaN</td>\n",
       "    </tr>\n",
       "    <tr>\n",
       "      <th>47</th>\n",
       "      <td>Rishabh Pant</td>\n",
       "      <td>Retained</td>\n",
       "      <td>WICKETKEEPER</td>\n",
       "      <td>16.00</td>\n",
       "      <td>DC</td>\n",
       "      <td>Delhi Capitals</td>\n",
       "      <td>NaN</td>\n",
       "      <td>NaN</td>\n",
       "    </tr>\n",
       "    <tr>\n",
       "      <th>144</th>\n",
       "      <td>Ishan Kishan</td>\n",
       "      <td>2 Cr</td>\n",
       "      <td>WICKETKEEPER</td>\n",
       "      <td>15.25</td>\n",
       "      <td>MI</td>\n",
       "      <td>Mumbai Indians</td>\n",
       "      <td>2.0</td>\n",
       "      <td>7.625000</td>\n",
       "    </tr>\n",
       "    <tr>\n",
       "      <th>190</th>\n",
       "      <td>Sanju Samson</td>\n",
       "      <td>Retained</td>\n",
       "      <td>WICKETKEEPER</td>\n",
       "      <td>14.00</td>\n",
       "      <td>RR</td>\n",
       "      <td>Rajasthan Royals</td>\n",
       "      <td>NaN</td>\n",
       "      <td>NaN</td>\n",
       "    </tr>\n",
       "    <tr>\n",
       "      <th>24</th>\n",
       "      <td>MS Dhoni</td>\n",
       "      <td>Retained</td>\n",
       "      <td>WICKETKEEPER</td>\n",
       "      <td>12.00</td>\n",
       "      <td>CSK</td>\n",
       "      <td>Chennai Super Kings</td>\n",
       "      <td>NaN</td>\n",
       "      <td>NaN</td>\n",
       "    </tr>\n",
       "    <tr>\n",
       "      <th>215</th>\n",
       "      <td>Nicholas Pooran</td>\n",
       "      <td>1.5 Cr</td>\n",
       "      <td>WICKETKEEPER</td>\n",
       "      <td>10.75</td>\n",
       "      <td>PBKS</td>\n",
       "      <td>Sunrisers Hyderabad</td>\n",
       "      <td>1.5</td>\n",
       "      <td>7.166667</td>\n",
       "    </tr>\n",
       "    <tr>\n",
       "      <th>191</th>\n",
       "      <td>Jos Buttler</td>\n",
       "      <td>Retained</td>\n",
       "      <td>WICKETKEEPER</td>\n",
       "      <td>10.00</td>\n",
       "      <td>RR</td>\n",
       "      <td>Rajasthan Royals</td>\n",
       "      <td>NaN</td>\n",
       "      <td>NaN</td>\n",
       "    </tr>\n",
       "    <tr>\n",
       "      <th>26</th>\n",
       "      <td>Ambati Rayudu</td>\n",
       "      <td>2 Cr</td>\n",
       "      <td>WICKETKEEPER</td>\n",
       "      <td>6.75</td>\n",
       "      <td>CSK</td>\n",
       "      <td>Chennai Super Kings</td>\n",
       "      <td>2.0</td>\n",
       "      <td>3.375000</td>\n",
       "    </tr>\n",
       "    <tr>\n",
       "      <th>127</th>\n",
       "      <td>Quinton De Kock</td>\n",
       "      <td>2 Cr</td>\n",
       "      <td>WICKETKEEPER</td>\n",
       "      <td>6.75</td>\n",
       "      <td>MI</td>\n",
       "      <td>Lucknow Super Giants</td>\n",
       "      <td>2.0</td>\n",
       "      <td>3.375000</td>\n",
       "    </tr>\n",
       "    <tr>\n",
       "      <th>101</th>\n",
       "      <td>Jonny Bairstow</td>\n",
       "      <td>1.5 Cr</td>\n",
       "      <td>WICKETKEEPER</td>\n",
       "      <td>6.75</td>\n",
       "      <td>SRH</td>\n",
       "      <td>Punjab Kings</td>\n",
       "      <td>1.5</td>\n",
       "      <td>4.500000</td>\n",
       "    </tr>\n",
       "  </tbody>\n",
       "</table>\n",
       "</div>"
      ],
      "text/plain": [
       "              Player  Base Price          TYPE  COST IN ₹ (CR.) 2021 Squad  \\\n",
       "121         KL Rahul  Draft Pick  WICKETKEEPER            17.00       PBKS   \n",
       "47      Rishabh Pant    Retained  WICKETKEEPER            16.00         DC   \n",
       "144     Ishan Kishan        2 Cr  WICKETKEEPER            15.25         MI   \n",
       "190     Sanju Samson    Retained  WICKETKEEPER            14.00         RR   \n",
       "24          MS Dhoni    Retained  WICKETKEEPER            12.00        CSK   \n",
       "215  Nicholas Pooran      1.5 Cr  WICKETKEEPER            10.75       PBKS   \n",
       "191      Jos Buttler    Retained  WICKETKEEPER            10.00         RR   \n",
       "26     Ambati Rayudu        2 Cr  WICKETKEEPER             6.75        CSK   \n",
       "127  Quinton De Kock        2 Cr  WICKETKEEPER             6.75         MI   \n",
       "101   Jonny Bairstow      1.5 Cr  WICKETKEEPER             6.75        SRH   \n",
       "\n",
       "                     Team  Base Price (in Cr.)     value  \n",
       "121  Lucknow Super Giants                  NaN       NaN  \n",
       "47         Delhi Capitals                  NaN       NaN  \n",
       "144        Mumbai Indians                  2.0  7.625000  \n",
       "190      Rajasthan Royals                  NaN       NaN  \n",
       "24    Chennai Super Kings                  NaN       NaN  \n",
       "215   Sunrisers Hyderabad                  1.5  7.166667  \n",
       "191      Rajasthan Royals                  NaN       NaN  \n",
       "26    Chennai Super Kings                  2.0  3.375000  \n",
       "127  Lucknow Super Giants                  2.0  3.375000  \n",
       "101          Punjab Kings                  1.5  4.500000  "
      ]
     },
     "execution_count": 50,
     "metadata": {},
     "output_type": "execute_result"
    }
   ],
   "source": [
    "wk = IPL_Auction_2022_sold[IPL_Auction_2022_sold.TYPE=='WICKETKEEPER'].sort_values('COST IN ₹ (CR.)', ascending = False).head(10)\n",
    "wk"
   ]
  },
  {
   "cell_type": "code",
   "execution_count": 51,
   "metadata": {},
   "outputs": [
    {
     "data": {
      "image/png": "[encoded data removed]",
      "text/plain": [
       "<Figure size 648x360 with 1 Axes>"
      ]
     },
     "metadata": {
      "needs_background": "light"
     },
     "output_type": "display_data"
    }
   ],
   "source": [
    "sns.barplot(x='Player', y='COST IN ₹ (CR.)', data=wk);\n",
    "plt.xticks(rotation=75);"
   ]
  },
  {
   "cell_type": "markdown",
   "metadata": {},
   "source": [
    "The above graph shows the top 10 wicket keepers and also compares their price. KL Rahul who is in the first place has price value almost 2.5 times the wicket keeper in the 8th to 10th places."
   ]
  },
  {
   "cell_type": "markdown",
   "metadata": {},
   "source": [
    "#### Q5: Show all the retained players and also show which team spent what amount to retain their player."
   ]
  },
  {
   "cell_type": "code",
   "execution_count": 52,
   "metadata": {
    "scrolled": false
   },
   "outputs": [
    {
     "data": {
      "text/html": [
       "<div>\n",
       "<style scoped>\n",
       "    .dataframe tbody tr th:only-of-type {\n",
       "        vertical-align: middle;\n",
       "    }\n",
       "\n",
       "    .dataframe tbody tr th {\n",
       "        vertical-align: top;\n",
       "    }\n",
       "\n",
       "    .dataframe thead th {\n",
       "        text-align: right;\n",
       "    }\n",
       "</style>\n",
       "<table border=\"1\" class=\"dataframe\">\n",
       "  <thead>\n",
       "    <tr style=\"text-align: right;\">\n",
       "      <th></th>\n",
       "      <th>Player</th>\n",
       "      <th>Base Price</th>\n",
       "      <th>TYPE</th>\n",
       "      <th>COST IN ₹ (CR.)</th>\n",
       "      <th>2021 Squad</th>\n",
       "      <th>Team</th>\n",
       "      <th>Base Price (in Cr.)</th>\n",
       "      <th>value</th>\n",
       "    </tr>\n",
       "  </thead>\n",
       "  <tbody>\n",
       "    <tr>\n",
       "      <th>22</th>\n",
       "      <td>Ravindra Jadeja</td>\n",
       "      <td>Retained</td>\n",
       "      <td>ALL-ROUNDER</td>\n",
       "      <td>16.0</td>\n",
       "      <td>CSK</td>\n",
       "      <td>Chennai Super Kings</td>\n",
       "      <td>NaN</td>\n",
       "      <td>NaN</td>\n",
       "    </tr>\n",
       "    <tr>\n",
       "      <th>24</th>\n",
       "      <td>MS Dhoni</td>\n",
       "      <td>Retained</td>\n",
       "      <td>WICKETKEEPER</td>\n",
       "      <td>12.0</td>\n",
       "      <td>CSK</td>\n",
       "      <td>Chennai Super Kings</td>\n",
       "      <td>NaN</td>\n",
       "      <td>NaN</td>\n",
       "    </tr>\n",
       "    <tr>\n",
       "      <th>25</th>\n",
       "      <td>Moeen Ali</td>\n",
       "      <td>Retained</td>\n",
       "      <td>ALL-ROUNDER</td>\n",
       "      <td>8.0</td>\n",
       "      <td>CSK</td>\n",
       "      <td>Chennai Super Kings</td>\n",
       "      <td>NaN</td>\n",
       "      <td>NaN</td>\n",
       "    </tr>\n",
       "    <tr>\n",
       "      <th>27</th>\n",
       "      <td>Ruturaj Gaikwad</td>\n",
       "      <td>Retained</td>\n",
       "      <td>BATTER</td>\n",
       "      <td>6.0</td>\n",
       "      <td>CSK</td>\n",
       "      <td>Chennai Super Kings</td>\n",
       "      <td>NaN</td>\n",
       "      <td>NaN</td>\n",
       "    </tr>\n",
       "    <tr>\n",
       "      <th>47</th>\n",
       "      <td>Rishabh Pant</td>\n",
       "      <td>Retained</td>\n",
       "      <td>WICKETKEEPER</td>\n",
       "      <td>16.0</td>\n",
       "      <td>DC</td>\n",
       "      <td>Delhi Capitals</td>\n",
       "      <td>NaN</td>\n",
       "      <td>NaN</td>\n",
       "    </tr>\n",
       "    <tr>\n",
       "      <th>49</th>\n",
       "      <td>Axar Patel</td>\n",
       "      <td>Retained</td>\n",
       "      <td>ALL-ROUNDER</td>\n",
       "      <td>9.0</td>\n",
       "      <td>DC</td>\n",
       "      <td>Delhi Capitals</td>\n",
       "      <td>NaN</td>\n",
       "      <td>NaN</td>\n",
       "    </tr>\n",
       "    <tr>\n",
       "      <th>50</th>\n",
       "      <td>Prithvi Shaw</td>\n",
       "      <td>Retained</td>\n",
       "      <td>BATTER</td>\n",
       "      <td>7.5</td>\n",
       "      <td>DC</td>\n",
       "      <td>Delhi Capitals</td>\n",
       "      <td>NaN</td>\n",
       "      <td>NaN</td>\n",
       "    </tr>\n",
       "    <tr>\n",
       "      <th>52</th>\n",
       "      <td>Anrich Nortje</td>\n",
       "      <td>Retained</td>\n",
       "      <td>BOWLER</td>\n",
       "      <td>6.5</td>\n",
       "      <td>DC</td>\n",
       "      <td>Delhi Capitals</td>\n",
       "      <td>NaN</td>\n",
       "      <td>NaN</td>\n",
       "    </tr>\n",
       "    <tr>\n",
       "      <th>72</th>\n",
       "      <td>Andre Russell</td>\n",
       "      <td>Retained</td>\n",
       "      <td>ALL-ROUNDER</td>\n",
       "      <td>12.0</td>\n",
       "      <td>KKR</td>\n",
       "      <td>Kolkata Knight Riders</td>\n",
       "      <td>NaN</td>\n",
       "      <td>NaN</td>\n",
       "    </tr>\n",
       "    <tr>\n",
       "      <th>74</th>\n",
       "      <td>Venkatesh Iyer</td>\n",
       "      <td>Retained</td>\n",
       "      <td>ALL-ROUNDER</td>\n",
       "      <td>8.0</td>\n",
       "      <td>KKR</td>\n",
       "      <td>Kolkata Knight Riders</td>\n",
       "      <td>NaN</td>\n",
       "      <td>NaN</td>\n",
       "    </tr>\n",
       "    <tr>\n",
       "      <th>75</th>\n",
       "      <td>Varun Chakaravarthy</td>\n",
       "      <td>Retained</td>\n",
       "      <td>BOWLER</td>\n",
       "      <td>8.0</td>\n",
       "      <td>KKR</td>\n",
       "      <td>Kolkata Knight Riders</td>\n",
       "      <td>NaN</td>\n",
       "      <td>NaN</td>\n",
       "    </tr>\n",
       "    <tr>\n",
       "      <th>78</th>\n",
       "      <td>Sunil Narine</td>\n",
       "      <td>Retained</td>\n",
       "      <td>ALL-ROUNDER</td>\n",
       "      <td>6.0</td>\n",
       "      <td>KKR</td>\n",
       "      <td>Kolkata Knight Riders</td>\n",
       "      <td>NaN</td>\n",
       "      <td>NaN</td>\n",
       "    </tr>\n",
       "    <tr>\n",
       "      <th>96</th>\n",
       "      <td>Mayank Agarwal</td>\n",
       "      <td>Retained</td>\n",
       "      <td>BATTER</td>\n",
       "      <td>12.0</td>\n",
       "      <td>PBKS</td>\n",
       "      <td>Punjab Kings</td>\n",
       "      <td>NaN</td>\n",
       "      <td>NaN</td>\n",
       "    </tr>\n",
       "    <tr>\n",
       "      <th>104</th>\n",
       "      <td>Arshdeep Singh</td>\n",
       "      <td>Retained</td>\n",
       "      <td>BOWLER</td>\n",
       "      <td>4.0</td>\n",
       "      <td>PBKS</td>\n",
       "      <td>Punjab Kings</td>\n",
       "      <td>NaN</td>\n",
       "      <td>NaN</td>\n",
       "    </tr>\n",
       "    <tr>\n",
       "      <th>143</th>\n",
       "      <td>Rohit Sharma</td>\n",
       "      <td>Retained</td>\n",
       "      <td>BATTER</td>\n",
       "      <td>16.0</td>\n",
       "      <td>MI</td>\n",
       "      <td>Mumbai Indians</td>\n",
       "      <td>NaN</td>\n",
       "      <td>NaN</td>\n",
       "    </tr>\n",
       "    <tr>\n",
       "      <th>145</th>\n",
       "      <td>Jasprit Bumrah</td>\n",
       "      <td>Retained</td>\n",
       "      <td>BOWLER</td>\n",
       "      <td>12.0</td>\n",
       "      <td>MI</td>\n",
       "      <td>Mumbai Indians</td>\n",
       "      <td>NaN</td>\n",
       "      <td>NaN</td>\n",
       "    </tr>\n",
       "    <tr>\n",
       "      <th>148</th>\n",
       "      <td>Suryakumar Yadav</td>\n",
       "      <td>Retained</td>\n",
       "      <td>BATTER</td>\n",
       "      <td>8.0</td>\n",
       "      <td>MI</td>\n",
       "      <td>Mumbai Indians</td>\n",
       "      <td>NaN</td>\n",
       "      <td>NaN</td>\n",
       "    </tr>\n",
       "    <tr>\n",
       "      <th>149</th>\n",
       "      <td>Kieron Pollard</td>\n",
       "      <td>Retained</td>\n",
       "      <td>ALL-ROUNDER</td>\n",
       "      <td>6.0</td>\n",
       "      <td>MI</td>\n",
       "      <td>Mumbai Indians</td>\n",
       "      <td>NaN</td>\n",
       "      <td>NaN</td>\n",
       "    </tr>\n",
       "    <tr>\n",
       "      <th>168</th>\n",
       "      <td>Virat Kohli</td>\n",
       "      <td>Retained</td>\n",
       "      <td>BATTER</td>\n",
       "      <td>15.0</td>\n",
       "      <td>RCB</td>\n",
       "      <td>Royal Challengers Bangalore</td>\n",
       "      <td>NaN</td>\n",
       "      <td>NaN</td>\n",
       "    </tr>\n",
       "    <tr>\n",
       "      <th>169</th>\n",
       "      <td>Glenn Maxwell</td>\n",
       "      <td>Retained</td>\n",
       "      <td>ALL-ROUNDER</td>\n",
       "      <td>11.0</td>\n",
       "      <td>RCB</td>\n",
       "      <td>Royal Challengers Bangalore</td>\n",
       "      <td>NaN</td>\n",
       "      <td>NaN</td>\n",
       "    </tr>\n",
       "    <tr>\n",
       "      <th>174</th>\n",
       "      <td>Mohammed Siraj</td>\n",
       "      <td>Retained</td>\n",
       "      <td>BOWLER</td>\n",
       "      <td>7.0</td>\n",
       "      <td>RCB</td>\n",
       "      <td>Royal Challengers Bangalore</td>\n",
       "      <td>NaN</td>\n",
       "      <td>NaN</td>\n",
       "    </tr>\n",
       "    <tr>\n",
       "      <th>190</th>\n",
       "      <td>Sanju Samson</td>\n",
       "      <td>Retained</td>\n",
       "      <td>WICKETKEEPER</td>\n",
       "      <td>14.0</td>\n",
       "      <td>RR</td>\n",
       "      <td>Rajasthan Royals</td>\n",
       "      <td>NaN</td>\n",
       "      <td>NaN</td>\n",
       "    </tr>\n",
       "    <tr>\n",
       "      <th>191</th>\n",
       "      <td>Jos Buttler</td>\n",
       "      <td>Retained</td>\n",
       "      <td>WICKETKEEPER</td>\n",
       "      <td>10.0</td>\n",
       "      <td>RR</td>\n",
       "      <td>Rajasthan Royals</td>\n",
       "      <td>NaN</td>\n",
       "      <td>NaN</td>\n",
       "    </tr>\n",
       "    <tr>\n",
       "      <th>198</th>\n",
       "      <td>Yashaswi Jaiswal</td>\n",
       "      <td>Retained</td>\n",
       "      <td>BATTER</td>\n",
       "      <td>4.0</td>\n",
       "      <td>RR</td>\n",
       "      <td>Rajasthan Royals</td>\n",
       "      <td>NaN</td>\n",
       "      <td>NaN</td>\n",
       "    </tr>\n",
       "    <tr>\n",
       "      <th>214</th>\n",
       "      <td>Kane Williamson</td>\n",
       "      <td>Retained</td>\n",
       "      <td>BATTER</td>\n",
       "      <td>14.0</td>\n",
       "      <td>SRH</td>\n",
       "      <td>Sunrisers Hyderabad</td>\n",
       "      <td>NaN</td>\n",
       "      <td>NaN</td>\n",
       "    </tr>\n",
       "    <tr>\n",
       "      <th>223</th>\n",
       "      <td>Abdul Samad</td>\n",
       "      <td>Retained</td>\n",
       "      <td>ALL-ROUNDER</td>\n",
       "      <td>4.0</td>\n",
       "      <td>SRH</td>\n",
       "      <td>Sunrisers Hyderabad</td>\n",
       "      <td>NaN</td>\n",
       "      <td>NaN</td>\n",
       "    </tr>\n",
       "    <tr>\n",
       "      <th>224</th>\n",
       "      <td>Umran Malik</td>\n",
       "      <td>Retained</td>\n",
       "      <td>BOWLER</td>\n",
       "      <td>4.0</td>\n",
       "      <td>SRH</td>\n",
       "      <td>Sunrisers Hyderabad</td>\n",
       "      <td>NaN</td>\n",
       "      <td>NaN</td>\n",
       "    </tr>\n",
       "  </tbody>\n",
       "</table>\n",
       "</div>"
      ],
      "text/plain": [
       "                  Player Base Price          TYPE  COST IN ₹ (CR.) 2021 Squad  \\\n",
       "22       Ravindra Jadeja   Retained   ALL-ROUNDER             16.0        CSK   \n",
       "24              MS Dhoni   Retained  WICKETKEEPER             12.0        CSK   \n",
       "25             Moeen Ali   Retained   ALL-ROUNDER              8.0        CSK   \n",
       "27       Ruturaj Gaikwad   Retained        BATTER              6.0        CSK   \n",
       "47          Rishabh Pant   Retained  WICKETKEEPER             16.0         DC   \n",
       "49            Axar Patel   Retained   ALL-ROUNDER              9.0         DC   \n",
       "50          Prithvi Shaw   Retained        BATTER              7.5         DC   \n",
       "52         Anrich Nortje   Retained        BOWLER              6.5         DC   \n",
       "72         Andre Russell   Retained   ALL-ROUNDER             12.0        KKR   \n",
       "74        Venkatesh Iyer   Retained   ALL-ROUNDER              8.0        KKR   \n",
       "75   Varun Chakaravarthy   Retained        BOWLER              8.0        KKR   \n",
       "78          Sunil Narine   Retained   ALL-ROUNDER              6.0        KKR   \n",
       "96        Mayank Agarwal   Retained        BATTER             12.0       PBKS   \n",
       "104       Arshdeep Singh   Retained        BOWLER              4.0       PBKS   \n",
       "143         Rohit Sharma   Retained        BATTER             16.0         MI   \n",
       "145       Jasprit Bumrah   Retained        BOWLER             12.0         MI   \n",
       "148     Suryakumar Yadav   Retained        BATTER              8.0         MI   \n",
       "149       Kieron Pollard   Retained   ALL-ROUNDER              6.0         MI   \n",
       "168          Virat Kohli   Retained        BATTER             15.0        RCB   \n",
       "169        Glenn Maxwell   Retained   ALL-ROUNDER             11.0        RCB   \n",
       "174       Mohammed Siraj   Retained        BOWLER              7.0        RCB   \n",
       "190         Sanju Samson   Retained  WICKETKEEPER             14.0         RR   \n",
       "191          Jos Buttler   Retained  WICKETKEEPER             10.0         RR   \n",
       "198     Yashaswi Jaiswal   Retained        BATTER              4.0         RR   \n",
       "214      Kane Williamson   Retained        BATTER             14.0        SRH   \n",
       "223          Abdul Samad   Retained   ALL-ROUNDER              4.0        SRH   \n",
       "224          Umran Malik   Retained        BOWLER              4.0        SRH   \n",
       "\n",
       "                            Team  Base Price (in Cr.)  value  \n",
       "22           Chennai Super Kings                  NaN    NaN  \n",
       "24           Chennai Super Kings                  NaN    NaN  \n",
       "25           Chennai Super Kings                  NaN    NaN  \n",
       "27           Chennai Super Kings                  NaN    NaN  \n",
       "47                Delhi Capitals                  NaN    NaN  \n",
       "49                Delhi Capitals                  NaN    NaN  \n",
       "50                Delhi Capitals                  NaN    NaN  \n",
       "52                Delhi Capitals                  NaN    NaN  \n",
       "72         Kolkata Knight Riders                  NaN    NaN  \n",
       "74         Kolkata Knight Riders                  NaN    NaN  \n",
       "75         Kolkata Knight Riders                  NaN    NaN  \n",
       "78         Kolkata Knight Riders                  NaN    NaN  \n",
       "96                  Punjab Kings                  NaN    NaN  \n",
       "104                 Punjab Kings                  NaN    NaN  \n",
       "143               Mumbai Indians                  NaN    NaN  \n",
       "145               Mumbai Indians                  NaN    NaN  \n",
       "148               Mumbai Indians                  NaN    NaN  \n",
       "149               Mumbai Indians                  NaN    NaN  \n",
       "168  Royal Challengers Bangalore                  NaN    NaN  \n",
       "169  Royal Challengers Bangalore                  NaN    NaN  \n",
       "174  Royal Challengers Bangalore                  NaN    NaN  \n",
       "190             Rajasthan Royals                  NaN    NaN  \n",
       "191             Rajasthan Royals                  NaN    NaN  \n",
       "198             Rajasthan Royals                  NaN    NaN  \n",
       "214          Sunrisers Hyderabad                  NaN    NaN  \n",
       "223          Sunrisers Hyderabad                  NaN    NaN  \n",
       "224          Sunrisers Hyderabad                  NaN    NaN  "
      ]
     },
     "execution_count": 52,
     "metadata": {},
     "output_type": "execute_result"
    }
   ],
   "source": [
    "rt = IPL_Auction_2022_sold[IPL_Auction_2022_sold['Base Price'] == 'Retained']\n",
    "rt"
   ]
  },
  {
   "cell_type": "markdown",
   "metadata": {},
   "source": [
    "The above table shows the names of all the retained players."
   ]
  },
  {
   "cell_type": "code",
   "execution_count": 53,
   "metadata": {},
   "outputs": [
    {
     "name": "stderr",
     "output_type": "stream",
     "text": [
      "C:\\Users\\sanju\\AppData\\Local\\Temp\\ipykernel_10444\\3686566554.py:1: FutureWarning: The default value of numeric_only in DataFrameGroupBy.sum is deprecated. In a future version, numeric_only will default to False. Either specify numeric_only or select only columns which should be valid for the function.\n",
      "  rt_list = rt.groupby('Team').sum().sort_values('COST IN ₹ (CR.)', ascending = False)\n"
     ]
    },
    {
     "data": {
      "text/html": [
       "<div>\n",
       "<style scoped>\n",
       "    .dataframe tbody tr th:only-of-type {\n",
       "        vertical-align: middle;\n",
       "    }\n",
       "\n",
       "    .dataframe tbody tr th {\n",
       "        vertical-align: top;\n",
       "    }\n",
       "\n",
       "    .dataframe thead th {\n",
       "        text-align: right;\n",
       "    }\n",
       "</style>\n",
       "<table border=\"1\" class=\"dataframe\">\n",
       "  <thead>\n",
       "    <tr style=\"text-align: right;\">\n",
       "      <th></th>\n",
       "      <th>COST IN ₹ (CR.)</th>\n",
       "      <th>Base Price (in Cr.)</th>\n",
       "      <th>value</th>\n",
       "    </tr>\n",
       "    <tr>\n",
       "      <th>Team</th>\n",
       "      <th></th>\n",
       "      <th></th>\n",
       "      <th></th>\n",
       "    </tr>\n",
       "  </thead>\n",
       "  <tbody>\n",
       "    <tr>\n",
       "      <th>Chennai Super Kings</th>\n",
       "      <td>42.0</td>\n",
       "      <td>0.0</td>\n",
       "      <td>0.0</td>\n",
       "    </tr>\n",
       "    <tr>\n",
       "      <th>Mumbai Indians</th>\n",
       "      <td>42.0</td>\n",
       "      <td>0.0</td>\n",
       "      <td>0.0</td>\n",
       "    </tr>\n",
       "    <tr>\n",
       "      <th>Delhi Capitals</th>\n",
       "      <td>39.0</td>\n",
       "      <td>0.0</td>\n",
       "      <td>0.0</td>\n",
       "    </tr>\n",
       "    <tr>\n",
       "      <th>Kolkata Knight Riders</th>\n",
       "      <td>34.0</td>\n",
       "      <td>0.0</td>\n",
       "      <td>0.0</td>\n",
       "    </tr>\n",
       "    <tr>\n",
       "      <th>Royal Challengers Bangalore</th>\n",
       "      <td>33.0</td>\n",
       "      <td>0.0</td>\n",
       "      <td>0.0</td>\n",
       "    </tr>\n",
       "    <tr>\n",
       "      <th>Rajasthan Royals</th>\n",
       "      <td>28.0</td>\n",
       "      <td>0.0</td>\n",
       "      <td>0.0</td>\n",
       "    </tr>\n",
       "    <tr>\n",
       "      <th>Sunrisers Hyderabad</th>\n",
       "      <td>22.0</td>\n",
       "      <td>0.0</td>\n",
       "      <td>0.0</td>\n",
       "    </tr>\n",
       "    <tr>\n",
       "      <th>Punjab Kings</th>\n",
       "      <td>16.0</td>\n",
       "      <td>0.0</td>\n",
       "      <td>0.0</td>\n",
       "    </tr>\n",
       "  </tbody>\n",
       "</table>\n",
       "</div>"
      ],
      "text/plain": [
       "                             COST IN ₹ (CR.)  Base Price (in Cr.)  value\n",
       "Team                                                                    \n",
       "Chennai Super Kings                     42.0                  0.0    0.0\n",
       "Mumbai Indians                          42.0                  0.0    0.0\n",
       "Delhi Capitals                          39.0                  0.0    0.0\n",
       "Kolkata Knight Riders                   34.0                  0.0    0.0\n",
       "Royal Challengers Bangalore             33.0                  0.0    0.0\n",
       "Rajasthan Royals                        28.0                  0.0    0.0\n",
       "Sunrisers Hyderabad                     22.0                  0.0    0.0\n",
       "Punjab Kings                            16.0                  0.0    0.0"
      ]
     },
     "execution_count": 53,
     "metadata": {},
     "output_type": "execute_result"
    }
   ],
   "source": [
    "rt_list = rt.groupby('Team').sum().sort_values('COST IN ₹ (CR.)', ascending = False)\n",
    "rt_list"
   ]
  },
  {
   "cell_type": "code",
   "execution_count": 54,
   "metadata": {},
   "outputs": [
    {
     "data": {
      "image/png": "[encoded data removed]",
      "text/plain": [
       "<Figure size 648x360 with 1 Axes>"
      ]
     },
     "metadata": {
      "needs_background": "light"
     },
     "output_type": "display_data"
    }
   ],
   "source": [
    "sns.barplot(  x=rt_list['COST IN ₹ (CR.)'], y= rt_list.index);"
   ]
  },
  {
   "cell_type": "markdown",
   "metadata": {},
   "source": [
    "The above table and graph shows how much each team spent to retain their players. Chennai Super Kings and Mumbai Indians spent most (42 Cr.) and Punjab Kings spent the least (16 Cr.) to retain their players."
   ]
  },
  {
   "cell_type": "markdown",
   "metadata": {},
   "source": [
    "## Inferences and Conclusion\n",
    "\n",
    "From this analysis we got to know about the highest paid cricketers, number of players purchased by each team, percentage of sold/unsold player, percentage of batter, all-rounder etc., money spent by each team, most valued players, retained players and their prices etc.\n",
    "We asked questions such as' who are the top 10 wicket keepers/ most valued players?', 'frequency according to the base price' etc.\n",
    "While answering the questions we needed to use library functions such as Pandas/NumPy/Matplotlib/Seaborn etc. Also, we created our own function, performed looping and if else statements."
   ]
  },
  {
   "cell_type": "markdown",
   "metadata": {},
   "source": [
    "## References and Future Work\n",
    "\n",
    "As a future work we can find out and plot graphs about top 10 batters/bowlers etc., another data set from internet containing the country names of these players can be downloaded and merged to do some more analysis, average money spent by each team on retained players/ draft picks/bowlers etc. can be found out. Likewise, some other analyses can be done."
   ]
  }
 ],
 "metadata": {
  "kernelspec": {
   "display_name": "Python 3 (ipykernel)",
   "language": "python",
   "name": "python3"
  },
  "language_info": {
   "codemirror_mode": {
    "name": "ipython",
    "version": 3
   },
   "file_extension": ".py",
   "mimetype": "text/x-python",
   "name": "python",
   "nbconvert_exporter": "python",
   "pygments_lexer": "ipython3",
   "version": "3.9.16"
  }
 },
 "nbformat": 4,
 "nbformat_minor": 4
}
